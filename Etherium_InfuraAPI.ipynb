{
 "cells": [
  {
   "cell_type": "code",
   "execution_count": 41,
   "metadata": {},
   "outputs": [],
   "source": [
    "import pprint\n",
    "import config\n",
    "from web3 import Web3"
   ]
  },
  {
   "cell_type": "code",
   "execution_count": 31,
   "metadata": {},
   "outputs": [
    {
     "data": {
      "text/plain": [
       "13951961"
      ]
     },
     "execution_count": 31,
     "metadata": {},
     "output_type": "execute_result"
    }
   ],
   "source": [
    "w3 = Web3(Web3.HTTPProvider(config.INFURA_URL))\n",
    "w3.eth.block_number"
   ]
  },
  {
   "cell_type": "code",
   "execution_count": 32,
   "metadata": {},
   "outputs": [
    {
     "data": {
      "text/plain": [
       "True"
      ]
     },
     "execution_count": 32,
     "metadata": {},
     "output_type": "execute_result"
    }
   ],
   "source": [
    "w3.isConnected()"
   ]
  },
  {
   "cell_type": "code",
   "execution_count": 35,
   "metadata": {},
   "outputs": [
    {
     "name": "stdout",
     "output_type": "stream",
     "text": [
      "235993766379119704\n"
     ]
    }
   ],
   "source": [
    "wei_balance = w3.eth.get_balance('0x741db07eaf615a342D64e34343f3786918E652f0')\n",
    "print(wei_balance)"
   ]
  },
  {
   "cell_type": "code",
   "execution_count": 36,
   "metadata": {},
   "outputs": [
    {
     "name": "stdout",
     "output_type": "stream",
     "text": [
      "AttributeDict({'accessList': [], 'blockHash': HexBytes('0x689da01f08293cfdee5764cf8c72bb99e8bbeec2c4b16401e82dddaead3abfb9'), 'blockNumber': 13934249, 'chainId': '0x1', 'from': '0x3cD751E6b0078Be393132286c442345e5DC49699', 'gas': 21000, 'gasPrice': 117622525410, 'hash': HexBytes('0x3b1b0cca1c4ae75e55b4a69eef02e96567830cc6564990867dc06bff637db1a3'), 'input': '0x', 'maxFeePerGas': 245000000000, 'maxPriorityFeePerGas': 2000000000, 'nonce': 5414289, 'r': HexBytes('0xe334b207918b8dbbd4701625e45b3dcab34285a615437a6882c061cb6bae9f49'), 's': HexBytes('0x4d9985cc75d179c6bab462ab67a397092e0ff1a7efa480087e5ded27e30f73fb'), 'to': '0x741db07eaf615a342D64e34343f3786918E652f0', 'transactionIndex': 418, 'type': '0x2', 'v': 0, 'value': 500000000000000000})\n"
     ]
    }
   ],
   "source": [
    "transaction = w3.eth.get_transaction(0x3b1b0cca1c4ae75e55b4a69eef02e96567830cc6564990867dc06bff637db1a3)\n",
    "pprint.pprint(transaction)"
   ]
  },
  {
   "cell_type": "code",
   "execution_count": 37,
   "metadata": {},
   "outputs": [
    {
     "name": "stdout",
     "output_type": "stream",
     "text": [
      "KeysView(AttributeDict({'accessList': [], 'blockHash': HexBytes('0x689da01f08293cfdee5764cf8c72bb99e8bbeec2c4b16401e82dddaead3abfb9'), 'blockNumber': 13934249, 'chainId': '0x1', 'from': '0x3cD751E6b0078Be393132286c442345e5DC49699', 'gas': 21000, 'gasPrice': 117622525410, 'hash': HexBytes('0x3b1b0cca1c4ae75e55b4a69eef02e96567830cc6564990867dc06bff637db1a3'), 'input': '0x', 'maxFeePerGas': 245000000000, 'maxPriorityFeePerGas': 2000000000, 'nonce': 5414289, 'r': HexBytes('0xe334b207918b8dbbd4701625e45b3dcab34285a615437a6882c061cb6bae9f49'), 's': HexBytes('0x4d9985cc75d179c6bab462ab67a397092e0ff1a7efa480087e5ded27e30f73fb'), 'to': '0x741db07eaf615a342D64e34343f3786918E652f0', 'transactionIndex': 418, 'type': '0x2', 'v': 0, 'value': 500000000000000000}))\n"
     ]
    }
   ],
   "source": [
    "pprint.pprint(transaction.keys())"
   ]
  },
  {
   "cell_type": "code",
   "execution_count": 40,
   "metadata": {},
   "outputs": [
    {
     "name": "stdout",
     "output_type": "stream",
     "text": [
      "0x3cD751E6b0078Be393132286c442345e5DC49699\n",
      "0x741db07eaf615a342D64e34343f3786918E652f0\n",
      "0x3b1b0cca1c4ae75e55b4a69eef02e96567830cc6564990867dc06bff637db1a3\n",
      "117622525410\n"
     ]
    }
   ],
   "source": [
    "print(transaction['from'])\n",
    "print(transaction['to'])\n",
    "print(transaction['hash'].hex())\n",
    "print(transaction['gasPrice'])"
   ]
  },
  {
   "cell_type": "code",
   "execution_count": 39,
   "metadata": {},
   "outputs": [
    {
     "name": "stdout",
     "output_type": "stream",
     "text": [
      "0.235993766379119704\n"
     ]
    }
   ],
   "source": [
    "eth_balance = w3.fromWei(wei_balance, 'ether')\n",
    "print(eth_balance)"
   ]
  }
 ],
 "metadata": {
  "interpreter": {
   "hash": "b3ba2566441a7c06988d0923437866b63cedc61552a5af99d1f4fb67d367b25f"
  },
  "kernelspec": {
   "display_name": "Python 3.9.7 64-bit ('base': conda)",
   "language": "python",
   "name": "python3"
  },
  "language_info": {
   "codemirror_mode": {
    "name": "ipython",
    "version": 3
   },
   "file_extension": ".py",
   "mimetype": "text/x-python",
   "name": "python",
   "nbconvert_exporter": "python",
   "pygments_lexer": "ipython3",
   "version": "3.9.7"
  },
  "orig_nbformat": 4
 },
 "nbformat": 4,
 "nbformat_minor": 2
}
