{
 "cells": [
  {
   "cell_type": "code",
   "execution_count": 2,
   "metadata": {},
   "outputs": [],
   "source": [
    "import pprint\n",
    "import config\n",
    "from web3 import Web3"
   ]
  },
  {
   "cell_type": "code",
   "execution_count": 3,
   "metadata": {},
   "outputs": [
    {
     "data": {
      "text/plain": [
       "13964471"
      ]
     },
     "execution_count": 3,
     "metadata": {},
     "output_type": "execute_result"
    }
   ],
   "source": [
    "w3 = Web3(Web3.HTTPProvider(config.INFURA_URL))\n",
    "w3.eth.block_number"
   ]
  },
  {
   "cell_type": "code",
   "execution_count": 4,
   "metadata": {},
   "outputs": [
    {
     "data": {
      "text/plain": [
       "True"
      ]
     },
     "execution_count": 4,
     "metadata": {},
     "output_type": "execute_result"
    }
   ],
   "source": [
    "w3.isConnected()"
   ]
  },
  {
   "cell_type": "code",
   "execution_count": 62,
   "metadata": {},
   "outputs": [
    {
     "name": "stdout",
     "output_type": "stream",
     "text": [
      "<class 'web3.eth.Eth'>\n",
      "['__annotations__', '__class__', '__delattr__', '__dict__', '__dir__', '__doc__', '__eq__', '__format__', '__ge__', '__getattribute__', '__gt__', '__hash__', '__init__', '__init_subclass__', '__le__', '__lt__', '__module__', '__ne__', '__new__', '__reduce__', '__reduce_ex__', '__repr__', '__setattr__', '__sizeof__', '__str__', '__subclasshook__', '__weakref__', '_chain_id', '_default_account', '_default_block', '_estimate_gas', '_fee_history', '_gas_price', '_generate_gas_price', '_get_block', '_get_raw_transaction', '_get_raw_transaction_by_block', '_get_transaction', '_max_priority_fee', '_protocol_version', '_send_raw_transaction', '_send_transaction', 'account', 'accounts', 'blockNumber', 'block_id_munger', 'block_number', 'call', 'call_munger', 'chainId', 'chain_id', 'codec', 'coinbase', 'contract', 'defaultAccount', 'defaultBlock', 'defaultContractFactory', 'default_account', 'default_block', 'estimateGas', 'estimate_gas', 'estimate_gas_munger', 'fee_history', 'filter', 'filter_munger', 'gasPrice', 'gasPriceStrategy', 'gas_price', 'generateGasPrice', 'generate_gas_price', 'getBalance', 'getBlock', 'getBlockTransactionCount', 'getCode', 'getCompilers', 'getFilterChanges', 'getFilterLogs', 'getLogs', 'getProof', 'getStorageAt', 'getTransaction', 'getTransactionByBlock', 'getTransactionCount', 'getTransactionFromBlock', 'getTransactionReceipt', 'getUncleByBlock', 'getUncleCount', 'getWork', 'get_accounts', 'get_balance', 'get_block', 'get_block_munger', 'get_block_number', 'get_block_transaction_count', 'get_code', 'get_coinbase', 'get_filter_changes', 'get_filter_logs', 'get_hashrate', 'get_logs', 'get_proof', 'get_proof_munger', 'get_raw_transaction', 'get_raw_transaction_by_block', 'get_storage_at', 'get_storage_at_munger', 'get_transaction', 'get_transaction_by_block', 'get_transaction_count', 'get_transaction_receipt', 'get_uncle_by_block', 'get_uncle_count', 'get_work', 'hashrate', 'iban', 'icapNamereg', 'is_async', 'is_mining', 'is_syncing', 'max_priority_fee', 'mining', 'modifyTransaction', 'modify_transaction', 'namereg', 'protocolVersion', 'protocol_version', 'replaceTransaction', 'replace_transaction', 'retrieve_caller_fn', 'sendRawTransaction', 'sendTransaction', 'send_raw_transaction', 'send_transaction', 'send_transaction_munger', 'setContractFactory', 'setGasPriceStrategy', 'set_contract_factory', 'set_gas_price_strategy', 'sign', 'signTransaction', 'signTypedData', 'sign_munger', 'sign_transaction', 'sign_typed_data', 'submitHashrate', 'submitWork', 'submit_hashrate', 'submit_work', 'syncing', 'uninstallFilter', 'uninstall_filter', 'waitForTransactionReceipt', 'wait_for_transaction_receipt', 'web3']\n"
     ]
    }
   ],
   "source": [
    "eth = w3.eth\n",
    "print(type(eth))\n",
    "print(dir(eth))"
   ]
  },
  {
   "cell_type": "code",
   "execution_count": 70,
   "metadata": {},
   "outputs": [
    {
     "name": "stdout",
     "output_type": "stream",
     "text": [
      "13964667\n",
      "13964667\n",
      "13964667\n"
     ]
    }
   ],
   "source": [
    "print(eth.block_number)\n",
    "print(eth.blockNumber)\n",
    "print(eth.get_block_number())"
   ]
  },
  {
   "cell_type": "code",
   "execution_count": 92,
   "metadata": {},
   "outputs": [
    {
     "name": "stdout",
     "output_type": "stream",
     "text": [
      "<class 'web3.datastructures.AttributeDict'>\n",
      ".....................\n",
      "['__abstractmethods__', '__class__', '__class_getitem__', '__contains__', '__delattr__', '__dict__', '__dir__', '__doc__', '__eq__', '__format__', '__ge__', '__getattribute__', '__getitem__', '__gt__', '__hash__', '__init__', '__init_subclass__', '__iter__', '__le__', '__len__', '__lt__', '__module__', '__ne__', '__new__', '__orig_bases__', '__parameters__', '__reduce__', '__reduce_ex__', '__repr__', '__reversed__', '__setattr__', '__sizeof__', '__slots__', '__str__', '__subclasshook__', '__weakref__', '_abc_impl', '_apply_if_mapping', '_is_protocol', '_repr_pretty_', 'baseFeePerGas', 'difficulty', 'extraData', 'gasLimit', 'gasUsed', 'get', 'hash', 'items', 'keys', 'logsBloom', 'miner', 'mixHash', 'nonce', 'number', 'parentHash', 'receiptsRoot', 'recursive', 'sha3Uncles', 'size', 'stateRoot', 'timestamp', 'totalDifficulty', 'transactions', 'transactionsRoot', 'uncles', 'values']\n",
      ".....................\n",
      "AttributeDict({'baseFeePerGas': 83358046582, 'difficulty': 11486759986795564, 'extraData': HexBytes('0x75732d656173742d3133'), 'gasLimit': 30000000, 'gasUsed': 19918339, 'hash': HexBytes('0x2af7fc1c0b1b91f6eff994db5d69be4b156647e9e7c9e31f114a1a1cd8459c92'), 'logsBloom': HexBytes('0x9d6fc2cbe52e4ba7d2ae9fc4ce508b7fcfa002db990769c37fb9bfac3c97cb6b7b6d68dec9dabfd49b12d5e60b0755924751a86048197f77b663e1b43927b10890dd5a64a7b0d128d9a053ae32a0a7f29bf960d7d9eeb62d5e16fd02dbb555336e013cbc0ff104383946d2a46a23d8d240a699b7e44f9ef5c8f9cb9355ecc73501b80b848687393547d960bb89bebb457cb295b5c198021f3c4700fa0e337c7f37fd8a813640e5bbed55e7ffbaf3cd17fac473ef7cd303d321fc467c77bffd5b5f9c0c2e9c83c9e2602c11725bfe5028debde45ffe9e1098765b8fa28f47e60ac69aa20dd248c3dc6836cca45fe95be6ba50b308691de1e597ea5adef60f487d'), 'miner': '0xEA674fdDe714fd979de3EdF0F56AA9716B898ec8', 'mixHash': HexBytes('0x6af656f68f0ef7c9b6eba7b203411b9854deb2cd3d17b55cddd474a9ad022de7'), 'nonce': HexBytes('0x777d4bde5a29598c'), 'number': 13965243, 'parentHash': HexBytes('0x0f92ec347b15a22aa72baa675f1862d75a096b9dbd69468c9dd208786ed72db1'), 'receiptsRoot': HexBytes('0xc003a34503b1e6e9dca701b2971012056af535b4c8ab4a4b7dd28784b0fda851'), 'sha3Uncles': HexBytes('0x1dcc4de8dec75d7aab85b567b6ccd41ad312451b948a7413f0a142fd40d49347'), 'size': 130923, 'stateRoot': HexBytes('0xd9d99dd9c74c7be495a51701ccd2c41b7d9458a86891677bd089f5483878d967'), 'timestamp': 1641651537, 'totalDifficulty': 38471901159238812319828, 'transactions': [HexBytes('0x96bb030c1ab0fb89661bb364ed261ca5385d0dace401f1f5b4ba4ec718cdc37f'), HexBytes('0x5299fb06a1561e04b3f0597d8a405e9f73b6f671ecd1491ff00216bce6724e06'), HexBytes('0x49a727eb10720cff0802189ec096c236e174e4b2a65d628a796e6ed64a754091'), HexBytes('0xbe99fdc61b216b74aec89369c02b7ea8beb81c6fdb7f7addcebfc4b4dfc287af'), HexBytes('0x222ca9f4a1bc16052179c6749ef2efadbffb8f5393987a0cca7326910c7f7a94'), HexBytes('0x1ead194c54698cb4576f3af87dbfec5747abe74ea259cacf08d431c08748179d'), HexBytes('0x7f7620a9e50cb4b4aed7d967d1bb3c0b1c34bf0851020878a76663ed95df9c8c'), HexBytes('0xdadeba538f782a7246f4bfe698d347f14c3c3afd5d9306ea1fcc8ba46d776c64'), HexBytes('0x3c1cb92e4cd5144cfa9998d463f64737db193881c415d1ca49c4e5c0d39c0491'), HexBytes('0x8ef5f79f49c83faebd2f6f3fc12168459897a8b90b256152031d1dcae5e7a3fe'), HexBytes('0x171516d1bc31ba7bc878c76dac9bf3a390d2c5ace140f90c758b50b663095821'), HexBytes('0xb5fbd0b8dbc83e0142b5ce45f5a4fadc43b96d0a03104c0607706b7bb491581c'), HexBytes('0xb0ced919e74f375b14426df67fc0580581d5a8b0e617ea03d593efb0802625cc'), HexBytes('0x10a167e0314913913044d3158f9dc9ce76bc67dcc4bc405a460a6e7116a7a78d'), HexBytes('0x040f03025d103064ca340e1c62456181000dd795b4d86e219f8ab5af23dbc21c'), HexBytes('0x830f86e3d8de29891a2d73a0adf72edeeac1494e5e81e19ec7e9396c123de57a'), HexBytes('0xa5829d8a3aac0e9f08ed9ea4643a90467542363a887345c5d32a0390a9588915'), HexBytes('0xa9396e4a5a1e370dfd1d69d5e06bf2f06a25578c61062c2204541f5d5cfa6894'), HexBytes('0xee916d4e322708370668ff2955fc236409ebf21c25324f2f15fc01950d1f0764'), HexBytes('0x0d14d20320936e5fac3e12474814fe3ebc4ea8ecfd3d221ff821421ba3aee389'), HexBytes('0xf3c2bd7a800f9a334c985413ce8b813f3c128fda283c4e88e40d6c1bdb96f80a'), HexBytes('0xd4b7cbf3f64b9ba2d5ba07e69d55f778c945c538ba0116afa24b5ee545e7c2c4'), HexBytes('0xe6bed25ebea06cd3f7b25a7a2b5f400a67ae51ee6951c58cdd151bbec0d2139a'), HexBytes('0xf218fd34629feaeedccc4757a2c9385da7831b5e36d8f3bcc4b1f9fafc3e5f6b'), HexBytes('0x3053554f0a1bcd86583914cf0e0bf3e286b41dee0ebced646613904509164f77'), HexBytes('0x8f89e8a6b0ab00815978fa1677ab364395c5f06d10e3fe543f6bf0ea3aa17bc1'), HexBytes('0x7a1fdd1a54f4d62517a1bc72f4819700140ed3ef6deecaa6f8b7858b28401ab1'), HexBytes('0x30f06b9702f7c2ffc7e290b3545d74390974e1b8544c2767d81db91eb1ef8a20'), HexBytes('0x45ee4a3e3b259af73492c015ff44fad75a3a645350d9834895da3b2c1caf1b16'), HexBytes('0x4f4c723d0e64de04ad85c9fea96987397b1d152c97894a42596567995965206e'), HexBytes('0xd7082a4ca44eaa980c6a0ca4d6cdcf94565169a5f36a290776ff510be66394ab'), HexBytes('0xcdaf699396fcf079dffee25b83eb6602480a117de8a6e1804b263f20cdfdd5f7'), HexBytes('0xc0eace53fa8146c6bc0487dd53f31d2bf2965b69310015d416a6c68a9f91c200'), HexBytes('0x059e6dd538e7cb595db75677e363a0fc72b31e0ceae4c82364a8db45723ec21a'), HexBytes('0x0b22cb611836e9746fecbe7beed0686c9ce6740b5556e0218811b787fd933955'), HexBytes('0x583b76bc9724a54d34e616924a91e6b6ed34a575ecfd4bacb1350c9dcb38e336'), HexBytes('0xcdbc5bb3ce940eb10fa64c4cb8d7a71993057631022658d6af129540d4504722'), HexBytes('0x3153bd214163b3c819c1492021fc3453c73a8fffaa27a4bace36588528d9f136'), HexBytes('0x916c2fe1cb1a53981baec5681fabc1fe58ab3cb6de6336750ac819d17d855710'), HexBytes('0x87e820b68874c914915bbdff8326c91041e2d63f9b3e5047c9dcf589d7c671ea'), HexBytes('0x862b46dc408c6a275d81be2ec703e814073554460f5cb0157058cb4850abb5e5'), HexBytes('0xc73badd5859c56b05d11d8c1ab1b0c901b9f19e676558d0d268900fc56d319b3'), HexBytes('0xe4700631daaf25296f50be323e0b1f2584688f36cb4ced2ca5fb2ea24629f402'), HexBytes('0x837c2b7b502f8b72a583615169b70ee8c8702efce048b485c66d892bbd62149a'), HexBytes('0xf58e2216af188e13daaa0c28177f917372d6114a3564649dd07e6d2e78264ae0'), HexBytes('0x18fff1862dbe6804aaacef056f4acbf4d05d2ef33d8c2004baba6ce0c09482d3'), HexBytes('0xacd616b315dcdb39a3d83eae43c1321b374f5b4a0f7a1dc29c06e263e03747fb'), HexBytes('0x063ba32d7b0defea8d6c55df340133eb7b26271c6150789bbdfccfa9b19ff70e'), HexBytes('0xe1cb28ccb26ff8072ad8683fbf5244464c663aabad4ca8d849467d8364259a0f'), HexBytes('0xb49bb7a79639aea1a60aeb042fe763072e5c75019b1d136ec2d33019523fd37b'), HexBytes('0x1ed1d86f79d6eb63aee61d63b237c6b7ef6b0312a44afa33824c5e7162191e7c'), HexBytes('0x576658de4f5c27bf85dd3066e4403a231670f752a521c538bfb97f5a888ff077'), HexBytes('0x2aa0838b8d285e7e14012e894e38b229468f05d7c7c1dd6483f6b4224adc7151'), HexBytes('0xa8f3853201e422e421a91f6493f206260f6f3a1269e3bf85b09b161421a232fb'), HexBytes('0xbee04a8a21e2c0bba7af4dd9ffdbfabd31872a2581f137da053e6facd3d10a11'), HexBytes('0x3e985395fee4cd299b1b057198e36457be21f2b5e6fc41eca9675ab29be36f47'), HexBytes('0x1926dbba0daef6c0e8fa5515e7fbb979fa2dad4c39318e79e7285d31ab5f32cf'), HexBytes('0x96447f05e5352ae52acd6f07a349d8d19d7ccbd02c3917abbed26262fb77c5a8'), HexBytes('0x5f1516c2a100147fcd58fcdee312c46a4b894dd1217812cabab0dd93f3ca64a1'), HexBytes('0xd4f34e5db9fe0144db16fa93d6f798f4af71894049edc5df7f1b4dd2e09524cb'), HexBytes('0x84fd834640abc071c85355a5579d8dc75c0800af097d2536d035f763a73f43a5'), HexBytes('0x3a54dac09dd414bc7d271dcaf905bd6a327f35d3e0c2a6123c8714a16416a86b'), HexBytes('0xb74af000ac0244d247802501b674f07606cb46442054ae9906fb1b26ad7d87cd'), HexBytes('0x5c5c9a6da898962e70e93bceeddc2890da3ae3c13e02843d8afcef0abcb42715'), HexBytes('0x14f8633cd113031f2f2c4c7e3db1cbb22ab1f7e58271b4b27e6ad79229a9d660'), HexBytes('0xc50e123eb3f197dc81f14cf973c5fd78e9b3fce70470989de8cc5b74d58a4621'), HexBytes('0xd1b7948add8bda4e3f314766c236f8a3b4034760712245f3d81b2754604bc01e'), HexBytes('0x3f124715d59f410f41b5f7bd18a7631ffbc5870a5d4e08cbf5afe0498007224d'), HexBytes('0x0e416fdd1e7f83c61b6d02e158efca0cae6b4adfeffadb8f4456a0a7af463f44'), HexBytes('0x678b85647773a4e730ccc130260f68b3e790d558fd22eb04b3e060b39808a32a'), HexBytes('0x812d6efb7f5b7a043f65636d24c516ebf7f171dda37d4431b3195d221ded5d2a'), HexBytes('0xc0444fd9ac3f2a4ea76a56e5a22ad28f31ac1792b68ac04e731d95f86c68592f'), HexBytes('0x022dcb00143ee9202eb2a4043b08c94f0fc7e9eb5ae6a5854aa4574ba2c6c198'), HexBytes('0xc59f9195fa1bff76cd16e108255b9b38953be7d418a238d3b0093cae5bb5e92d'), HexBytes('0xffef3c43c8771422eb5bd4e6fc45d74e5cf8a83b0cddb2846f8490e9639248c4'), HexBytes('0x6193c85945324692eb7666cdbadd6ad92ec683547367a64a482d51e237452378'), HexBytes('0x6eb7878563dfdcf39968c8f55457372598066bb1f3dfa37192503539177b30f6'), HexBytes('0x295b1dda52c55b9851b2376f9a8beed1d2ad7e42b4d0d4f3730dfe826d426b89'), HexBytes('0x5a05c3ee0cc0bd393ad1e854e0b4ae76b2585d407354fd0113af08172580184e'), HexBytes('0x78d11420b9c47c9bb35179756a2bcfb5caf3d56e7508af1c9a8ac0d3dd2b4531'), HexBytes('0xefe5ab4e1d552ef6be19173e9be4288c03f0e84b282e58c60ee8e2aca2dc275f'), HexBytes('0x45abca7579cd5e08d3a185de5ede29d0f93050906f9a096236c6d3de91dcc51f'), HexBytes('0xf892e857b258882e9f5707060b571d85a0a1f8c0d92a89f1e4a5d80f4ebbc4d0'), HexBytes('0xe2495a24fd72e64ea84f398288c2a9450f5694ff578480145e3c3182c663c367'), HexBytes('0x67df06e939a502f8d47b9b47f40abf586aba6421f86780c7f0b2ad57fa1fcec2'), HexBytes('0x638e58c0acc5a30c96a9ded0bd3a04c4d31e767279e969440ed94eddedf04c06'), HexBytes('0x347677df6d0565e09cdcfcf3c4830c5f75a41ef89294a01da43405d310fd7a77'), HexBytes('0x2cb9f0a102af1c4d8131b90edb31844aa02271b748f561a8d57dfad617883927'), HexBytes('0x2420b5edd2f7afe07b5b549529de5b77803db3989cf19e28ad1af532ddcab5cb'), HexBytes('0xe01624df8f35bfe6b836285bd92e6e492c59e9d2e70860cbd75d91563661c83c'), HexBytes('0x4796aa1cc38dd9ec30026a5dd14a75255c39146b10dbd66f038f6e02a3c4968c'), HexBytes('0x20594f8839b1b5832b1671f87b9e67392e25d52f3b0799124595d92989fb87d5'), HexBytes('0x796e81dd3b17d78b318bdc85a602aac76ac7a2526a7fdf910d8bb3b4e8714a19'), HexBytes('0xcd5fc2ea3524b114f26710a08c06c5721eb3a303704b3b9ecdc4e2c910f25515'), HexBytes('0xd2917cd5cdac3d32e6e01672b7ea9399bef4f18a80aec6882c6fdd6eb03fb59c'), HexBytes('0x145821aca9d3482487fc681a4f899d5fa52c3c7488f26033f68c41695484f27b'), HexBytes('0x5ded54be6f2c6ae7d4bd173e963492b47dea1638b6e987388b148389992623ce'), HexBytes('0x7f4af22c531f4857c178964dea32953aadeb8d6a5426cab84e7f796b956ba7c9'), HexBytes('0x2a7b083476462e0a464e39f90e6abada5c951461857253ca045c9e8da4f98317'), HexBytes('0x400f7a5a7e90b2f0326917c842dc89b773d8963f480d364edf3c5bb960ec0fde'), HexBytes('0x077ad733bd87704e414f6894afcdb06a0ad2bb72639a492b1c519ec956941427'), HexBytes('0x3d02cd7c2aac69b5e5353a63e36fc3f4fa23700554d7205a4f083670fd43db47'), HexBytes('0xd6470c1d6e23349b18dcd118f1087cfaa57d29a89dadb5136cdb1f187038ef18'), HexBytes('0x2f12a6a779103c0c4d80cbf4d3ec10b19bb74260c23481b37481fb0df70d6a83'), HexBytes('0x3d5d129edfb60e4d8cee8b4fa74e568ef3a521c29520baf28706e3733385c3a2'), HexBytes('0x0e6fef82352fc042ee727fbe3f8756857957219f324a1b52ec64851cd6734158'), HexBytes('0xd985e0916dc8527e0a03293102506a758395b56a9de2249c10da26a20073cf2a'), HexBytes('0xa6b99c6ddc89ef337f2a44a8bcb8814dcaaf7ceb922b500a351b514d69a22959'), HexBytes('0xd490eebbcbd2897daa77718e70332c1c1b551bc7b5a6c281250fbb977e499003'), HexBytes('0xf33ad1871b2597d70a871194ddded4e931cd25d9a38f79c41150a72c6d433fed'), HexBytes('0xb7508a06e10de8c79cfe5db77aa7652c10bc1541be1907e3516732e6ad6a03ac'), HexBytes('0x69d7d97483072e23089ce1326ad5cd7f74e88c6d350f85d6e0e9dc0840fd4ff8'), HexBytes('0x486fe97c62f048e7d987bcfdaa0dd0251f33ec12da5866ca20eb77893e2660bd'), HexBytes('0xb3e471c485326bb82e4d11e15e46ddadd91a4867af5b6a14b2632c97040cbb84'), HexBytes('0xd89c69120aed6d3ee2383b446b6d53487ad31aea83dd4b20edf72e6343f353eb'), HexBytes('0x2409a37076058a82f709c4754de8d13c2c0fdba4960ed07ba1e600e3e72f5855'), HexBytes('0x6ddfba740104090a07445652d30be64a19c4da2ad853019e28077ab4a9d01861'), HexBytes('0x115afb00354b645f09cb4c445b8b73a966f602a5ee7144ae4553f947e57579e0'), HexBytes('0xfd111bff8c14b98b426f135644db6615ccfce382e763e35419fc4a72faf54e40'), HexBytes('0xb44c34f8dd920fc497d65c515e1e0525a2ccef879ddb0406d280724314f4d295'), HexBytes('0x66971747e74cafbd09951383be5951c5d66539b538fc0282c85016ef090a4537'), HexBytes('0x764ca1009d11a03b4916f74bdc766795c53055f22981059a15cd86bc08b88b20'), HexBytes('0x795f45cf2fe1b82d58890cbd6434708a4c394802bab6c9fb10c6fd7f3c1d6581'), HexBytes('0x296f5b94db3dcb792391836d9a5393944760bf309c06cab252112ff3e4388e85'), HexBytes('0xd31e39b7832239d92a29c092586fa0e9dc50adc1982a3a3753c426d79e9809ba'), HexBytes('0x190454127d20033b0c1209275cad6e421d5acae74b9e434c41b7c172c58552ff'), HexBytes('0x33d2305076057ebe66e9c930909ea46456e6a9c681acfe5892425573a2220dac'), HexBytes('0x7d2668928fc52a023398356be76139236b94feb732a2b24bafed51e671473211'), HexBytes('0x5757ae7f9d9bdb4c5cce872d27a3d219673a7a8a94c52c6b6d8793c23555bea7'), HexBytes('0x29ff31bf7624fd86c6f6a824055df9e0ae7b076e4aae7ba199100bb4a0e7c914'), HexBytes('0xadcbc2fefbd79755cce07fa4d4d3bc0c91bddea6ae002b17fae3f246b7e67861'), HexBytes('0xb9578c43981d0dc4f4f2c09554955aeef3cc7eee264ceebed1ddd6c09d83b66c'), HexBytes('0x920f4e51c1f69fbea5b78082c188da9bb3a2355a3dd6484fdbf6b4bea98df480'), HexBytes('0x716832cd8848f8a699b4a2b24954bb6c4aca4f24f869ee88ca9120242b2e38d9'), HexBytes('0xc336d59d3fa07d4a9883b0080141517c4bca7c2c1e70723f2b66a72b539d1318'), HexBytes('0xfed9da2ae947ec0726b34b943b4ce638c31ff439319b45120af892d558abeec2'), HexBytes('0x9e1a902174e419e5416b0ef2ad8f5b39cbdedc6ba53f264cf5a9784f4ded30ff'), HexBytes('0x78a0bc591f78062292243d84204d4650e6ab602ad94a497780edcef7eedeb703'), HexBytes('0x3d9f48bfcf9d9196b7ebff5abdd7ab6a0fcb51438504900cc78cba8c60689f1a'), HexBytes('0x95fd444ffbaa92363c2785597d795a2abab8b3b5ecd6a2194c220f3dd764e459'), HexBytes('0xad66662fbc5cd71d94a9619a7dae9f4e895000a1d69c0386aac1fb326ac34c3d'), HexBytes('0x047730afd64745acdbb7be039d82be2f32db528803be822be397caf863095045'), HexBytes('0x702b08694fd2aa9eacca090e4c85a98b7ea58acb8883f74f6335a6c010cde606'), HexBytes('0x31a465f674ddaa9f868336f7fbb797811396903f93893f8dc25da815b44760de'), HexBytes('0x236fc405eaf7af0a1b514873d6e9b468e97a550ec18cc14e8f402b81a46986e6'), HexBytes('0xf0a17f06c3263441fc643d3d298e98b31b0cc8a55aab53e358250f29759c9d48'), HexBytes('0x04a8f835d7af433847ec080fe88a3242f74de6e32825865035190621dd2930b6'), HexBytes('0x206d4d5fe9bc42522f5539a37cf091e5cab6d71c6ae7c45033e2a7ac9b760f75'), HexBytes('0x140a77b80bceaeca41354e830be0bfc3e686b4ae8906f7be5838c29124efb1c7'), HexBytes('0x520361267d21cfe66107e0a3eb4a08d719719ae491d2e8a3d2ec4ad000365659'), HexBytes('0xae1e41650ec32d90953904b69c5958d6c411dff79bb25969a9d874aa8fccf453'), HexBytes('0x07c17fa658a7320b87ea41ac533bd4bf356bbddc426445508325910cdd47e76d'), HexBytes('0x8890fc7f63263c1218133d5c5364d6e1b023779e2dc6639cb603675d435ccf73'), HexBytes('0x72a6a2dae726ceb0b2ad26dbac4ad04a9948c6e8cc18a3dcf74a448937fd7b22'), HexBytes('0x26cfd7725a31603e7a55943e5a4fb95ffdf022d0e21d0cf1801737ee14cec92e'), HexBytes('0x565e39a1818a6f6d88b3c13b9c08b939127ade72e073ab6684616ed6c0480c0e'), HexBytes('0x206dae4889b7f6f0dc923c70cf50974091b29836882c83cd9e3913af4016d821'), HexBytes('0x82ea05d0549d6e3ba61c11ad47383a57f51525cccafa455937fe6880beb8e319'), HexBytes('0xbdac224ec0595e42f878a396a4594e79015c292358c5c6884ab2afa7802de0ec'), HexBytes('0x1ff85b8001d98c9a7692c3da33ba54d6c85d5e5827bbb197b2a01945948238eb'), HexBytes('0xc61a697ec2a8d31d070baf43edf9b35c28df046f56a649e8f0aca06d9430609c'), HexBytes('0x2b5c2692339751eaa949e1395af7681ec77dc5b0f3571ef0dd47be74f9d5fbf6'), HexBytes('0x89236573defb4c9a7b637228eb0eb9ea64f4237cbabfe26efea1a1e92769580b'), HexBytes('0xae3a78283e96be69d2219800add6c95742d2aaf2853714370f35e75a6822e486'), HexBytes('0xe2566b3557cdf05ae95396211bc903c03c5c7737a549a35a8f1d04854cf8bf85'), HexBytes('0x257b7bf8e175bca1fcf9e285a576f3811b3c753b3887bcf6f244b66e947065d3'), HexBytes('0xece70b3043b82ae4de6f295258e78a7da1a6c595872d9373ee093312c7babfdb'), HexBytes('0xe4039c9f032cca41f6b13b2750681e8ac7c9bf98ef114efbf0733780f65ce75e'), HexBytes('0xff5021124d6bb97320978ca4fd8ac9c9985318ee1e663a479aea97fba58f3f40'), HexBytes('0xda72550f9fc4803c54ccb1b93b60082c9ca77c061521cd8e8df6a835ef563026'), HexBytes('0xc493348458bcb676be57dc2677ccebedd06ca0219b04f87f9477330646232214'), HexBytes('0x24a5e62244df6b8388fdcff27119a893a1b5ae46c0b91b3d568b8d3d01fc69b6'), HexBytes('0x9185ea19fef6ef980fe352a3460c72514f5e9e4c81f8d40ed2e7f5bb6baca725'), HexBytes('0x4399516a9fb05a3b7a8b7ebb009b8288dc66ae29a8bcec70861bd59d049f2e39'), HexBytes('0xf2d7a0c40a873567ebbd313ea5bb17ea3f87c7bf413bf6b054b497867a203765'), HexBytes('0xbcd8615c7b5b298b46422b52c550a162e93b30a4d4685c3866559b431dbcde53'), HexBytes('0xb1cf139dbd875554e2297f5e1ef301015cc8b395dd16eba96a9f58f73961defa'), HexBytes('0x8919dce4e794ab82b3f640bb1c98deddc3f88f446904c800a47a280d49a64f1d'), HexBytes('0x7df6a937db5ceaf86b42900953524c03643e7b74a94cc86334b799a27466a2a1'), HexBytes('0x3bac922f7417932ebba4dc7dd6a9f4d168db71aa2ffd2405915d76c0343ba6d6'), HexBytes('0x5222e967b808db453dff1a0010775db24b0c9dc043f4a67ee34b9161a00316f9'), HexBytes('0x1fad595f1bb6eec838c905fa056ac37c2127651756d29306b98bb25ecc8cb8e3'), HexBytes('0x9076be81a1ff2c12979e2844e5d106e4c7c70f7739e9deecc09ce5c1ce9eb180'), HexBytes('0x7d03e83013dc5e4d533da2cf5540025ab2ebbb613dc016b3a9a636b552cce094'), HexBytes('0xc9f2839e7b7b7a00982a86e03414e8d17606e0876c5c43c867524cf30ed925cf'), HexBytes('0x6cb8a70ede791820f9fc2c524b5bb9747af6dabb16ee5893b26e225e65e602e0'), HexBytes('0x84772d1698a23d55cebda07d9f72ebae82c7f3a328ab4a969deafaa3a34b9176'), HexBytes('0x85acd51d13f7840bbf34ef08fdab73369c91ee0ca392cfcb9253baf7f5c5e3bd'), HexBytes('0xcad2c7b53645b2868b4e377eba0304940803c4227c91391e7774f6a2085fc764'), HexBytes('0x735f4a790d5f067ac17309912e8bcd86b55e1d1482552ec0f3562fd53e3a88a2'), HexBytes('0x7d415eedbccbc7ac07726ab720cf6943c09f4e1a06fe45c5784bd0372727ad60'), HexBytes('0xe37a46c931df0aee11bc37c93e3b728a960761d28814035a1a5afddebb772a32'), HexBytes('0x82012a22c10d595cc6d6c71e0550a1251d8225cf54e9be300442fb560baa6fc4'), HexBytes('0x4272a1645f69b0dd58d29431b74b556ae822c238c9de529b779440141a045fc2'), HexBytes('0x05ebb04a887d74a27d3fc96ab8715d5a03c045863bb8877172ad24a6e8faec7f'), HexBytes('0x4a47c6dc751d23c10631065a14dd394b23aaf75bf34839b67c8a43e4a3c7d7dd'), HexBytes('0xa2dafbb28f03e93b60fbefb9fe2085a142bfefbe15a20edf83a8c9aafc7fc787'), HexBytes('0x8a5e1f2b4fc0f0258b3b6b3716895a52d21e9f5a5da4f1d84343db213490ca8f'), HexBytes('0xd1918a4e578064c950176e2aedc8eb2c3d3d403332aadf165a84eb7e106b0845'), HexBytes('0xaeb6b450fee3d75483deff25f80c46fe2ea7ffc65913b2d7b2ff9995037a6e69'), HexBytes('0x31b5669cf2e4bd1b0141e1932080f5123ad10a7706550f3994df29d878356a8c'), HexBytes('0x7925ed8e810f649e7826b90266461db009f8a1a67775d7b4ad3e71e9cb92826b'), HexBytes('0x70936992f064b4e7b3ca2941dd2c6f29aa4e40187447392c4f3a21ca89cd1267'), HexBytes('0x8f99827201adec784ec038928e13ce2dfda33efe303fb35abb24bb3a6068bdce'), HexBytes('0xad0e509629484fb109738667a0e8fa5855a67b372ca03e15681ea4cc5f429e4d'), HexBytes('0xaf35af3eb5a014b363e0e29c1712b7271ec29f1ee3d4c5402d0992cd2e565dad'), HexBytes('0xcaa91d5d1a14a14bf1ce08e9601c5322ac6cdf502dc73f1a0db6865dd8ba282d'), HexBytes('0x211671d67be4a50b1c199482a5a0a9d55383d4cf876949eebeb62ac34bcc7274'), HexBytes('0x6701be933dc983f86ce20435911e68e7b70ded43136a2239899a6bb652cd99f9'), HexBytes('0x40a196465f69e5343c73491b76a86b0a6b5939b210a4b9b7f8022d05c8eb1f6a'), HexBytes('0x861a343ac0452f3b5c1a93d362656ac142c6beeabf43c8f1c08e10eea0787cd6'), HexBytes('0x8680038e635f504f1e86454a04276c90fb777e818e017d2d8be81ef76fe33a13'), HexBytes('0x23dfef439956e24d814f2326492865b826aa08d04014581a4c7a847cd6c62f31'), HexBytes('0x28fbbbeede364cb42f767e3fe371a6edc93ec2c4d9729a15819fc1506c1d14f0'), HexBytes('0xad152028180c2475a2baa066eceb243941b641b44f31c5bd471605e77cc39995'), HexBytes('0x0c969ce90c245ae1972096ddb09db237703e968819d5ea3fdf9a1cddbde811f0'), HexBytes('0xd8d3cd84819cc2f31795070153cbe25068f7ee60a4a749f9a56a2bf0eef70490'), HexBytes('0x52cf626ccf66436b33ac6fb3f62dec99653e049f03c26c8f2bb81293e5acec7c'), HexBytes('0xf19d661bce5320d1354dbdf794b3d7eda9cd0bb856cb1c01eeca4075ec1aadca'), HexBytes('0xb65c00098693712d95e64a1612e370a2d29db59559cc4f238b8c46f6f6cee25a'), HexBytes('0xf1a1623d1b24c561e3ae058f4e7aa66f1899e68cb8d05a083ec485bc271f8bea'), HexBytes('0x3abef45369a2048826f95a64b26357e3cef5262df423a0093525f56abd01eb96'), HexBytes('0x830afeae6413c466fe4fcc2d051ecd3dd1c9b91c06b785db32192fc715cbd495'), HexBytes('0xff439c23a6e60b10cb4c15117bd61222d282b3dbc28fb7139ca8a53515037694'), HexBytes('0x9a5c3d143462fba766d32f6cc1361673ef98b1596b2ab96f42098eccafb46a21'), HexBytes('0x47db336469942feedbdb34ec7b09a61caf1676b971478f81948b9a3bdf3961b7'), HexBytes('0xa326a99aa5b28b138a090aa2259cb12f301969ea22e8b34eeb04a2739f7b8df5'), HexBytes('0xa102b31d79e08b81b6a7fdcfeafb3898c7f86c22031fe05319da65ee96062c94'), HexBytes('0xa08e85f0289ecd2490c22e988a59a6d67c3982aa6c444427dfb6bc91c6536437'), HexBytes('0x72bd3d3ca5e3a988f3a19e95fe038bd7c0b0a63d9ded1092729411efe4f72fc8'), HexBytes('0xb890b97c6fac482567b18ac08cc729191f5931f3dbf7af7a5d571fae2353dfe1')], 'transactionsRoot': HexBytes('0xe1ad45a3037f6c300de17239ade84f9695642b34b7e98ca4cda66f72319793bb'), 'uncles': []})\n",
      ".....................\n",
      "13965243\n"
     ]
    }
   ],
   "source": [
    "block = eth.get_block('latest')\n",
    "print(type(block))\n",
    "print('.....................')\n",
    "print(dir(block))\n",
    "print('.....................')\n",
    "pprint.pprint(block)\n",
    "print('.....................')\n",
    "print(block['number'])"
   ]
  },
  {
   "cell_type": "code",
   "execution_count": 87,
   "metadata": {},
   "outputs": [],
   "source": [
    "latest_blocks = []\n",
    "for block_number in range(eth.block_number, eth.block_number-4, -1):\n",
    "    block = eth.get_block(block_number)\n",
    "    latest_blocks.append(block)"
   ]
  },
  {
   "cell_type": "code",
   "execution_count": 88,
   "metadata": {},
   "outputs": [
    {
     "name": "stdout",
     "output_type": "stream",
     "text": [
      "AttributeDict({'accessList': [], 'blockHash': HexBytes('0xa5310616ca06254305c7cffdabf5fe96e1258281d032ab3405545f19c05787ec'), 'blockNumber': 13965197, 'chainId': '0x1', 'from': '0xE5D7D064BA26227c1e4bBF46A3B598DA4Adc70eA', 'gas': 56038, 'gasPrice': 75474663522, 'hash': HexBytes('0x5b5ae7ad9ede0f60c3c6211cb99411985f90be72712003b3c433461a24334e64'), 'input': '0xa22cb465000000000000000000000000ec557366bc7f0cfad8351e28d96d337cbfd1a2200000000000000000000000000000000000000000000000000000000000000001', 'maxFeePerGas': 101976356385, 'maxPriorityFeePerGas': 1500000000, 'nonce': 91, 'r': HexBytes('0x3794f3433cf06e13b166d8f21e7fd7e8d9210e61132f7d958a462e6f2274230d'), 's': HexBytes('0x45e3e50c02aca368fbb82eb049f733a1073b075f66ab94fb972c64af84088d77'), 'to': '0xa342f5D851E866E18ff98F351f2c6637f4478dB5', 'transactionIndex': 349, 'type': '0x2', 'v': 1, 'value': 0})\n",
      "xxxxxxxxxxxxxxxxxxxxxxxxxxxxxxxxxxxxxxxxxxxxxxxxxxxxxxxxxxxx\n",
      "AttributeDict({'accessList': [], 'blockHash': HexBytes('0xa5310616ca06254305c7cffdabf5fe96e1258281d032ab3405545f19c05787ec'), 'blockNumber': 13965197, 'chainId': '0x1', 'from': '0x8056E2454ccD6B943bcC989Af03798aaFFdfED0E', 'gas': 21000, 'gasPrice': 75474663522, 'hash': HexBytes('0x27edebaaede32175b501d43a4c1f39a835cd3df4cbed73bbbfb7a472e7c47d3f'), 'input': '0x', 'maxFeePerGas': 101976356385, 'maxPriorityFeePerGas': 1500000000, 'nonce': 8, 'r': HexBytes('0xb9bc0c026066a32049bc7f398857325970290c45716c51e76a11ccf16fbea434'), 's': HexBytes('0x07616b9b95d0069e03c57a4ceafdfbe0451500c9d07937f658775f726e53fa51'), 'to': '0xc435181c575bf24832b7AaD975c59c166aB3c6bA', 'transactionIndex': 350, 'type': '0x2', 'v': 0, 'value': 17190264640230564})\n",
      "xxxxxxxxxxxxxxxxxxxxxxxxxxxxxxxxxxxxxxxxxxxxxxxxxxxxxxxxxxxx\n",
      "AttributeDict({'accessList': [], 'blockHash': HexBytes('0xa5310616ca06254305c7cffdabf5fe96e1258281d032ab3405545f19c05787ec'), 'blockNumber': 13965197, 'chainId': '0x1', 'from': '0x07a5fE89A19EBDfBe16C3c950D172f596D1ea6A4', 'gas': 21000, 'gasPrice': 75474663522, 'hash': HexBytes('0x86b44c1fa4b50992ab4e6da009548c7daed8cf54590734f4ef2741f988dcefd6'), 'input': '0x', 'maxFeePerGas': 101976356385, 'maxPriorityFeePerGas': 1500000000, 'nonce': 326, 'r': HexBytes('0xaf08d20875097ff8426204f30c8da60f9bf6967e1832f410c2eb31cdd1e4258a'), 's': HexBytes('0x28d90d4ecd5002453e2a6ce10b0244002f77deaf7bdd0a452d8bf60f2dad270d'), 'to': '0xBF640aAA42E6A5a175681A829957Cbc63993223B', 'transactionIndex': 351, 'type': '0x2', 'v': 1, 'value': 50000000000000000})\n",
      "xxxxxxxxxxxxxxxxxxxxxxxxxxxxxxxxxxxxxxxxxxxxxxxxxxxxxxxxxxxx\n",
      "AttributeDict({'accessList': [], 'blockHash': HexBytes('0xa5310616ca06254305c7cffdabf5fe96e1258281d032ab3405545f19c05787ec'), 'blockNumber': 13965197, 'chainId': '0x1', 'from': '0xd160bE549f2D479e627a71d0EE0C49A7B67819B0', 'gas': 21000, 'gasPrice': 75474663522, 'hash': HexBytes('0x906aaa3fdfbbb09b38c8a33d59bf3e91eb70805279301930476eeac7764d5617'), 'input': '0x', 'maxFeePerGas': 101976356385, 'maxPriorityFeePerGas': 1500000000, 'nonce': 7, 'r': HexBytes('0x3e0f81f630503115ec25d3bcb035b2c83d9d6f35a54b6e9e6d8ecbf5eb9afd7d'), 's': HexBytes('0x3f51783d4edeebbf62c1c214fd015ef661c35cf57d42af9ae8c9ee0a0da0dd6e'), 'to': '0x1205D52192189aeB381E40Aa870f8445C5a73DF5', 'transactionIndex': 352, 'type': '0x2', 'v': 1, 'value': 310000000000000000})\n",
      "xxxxxxxxxxxxxxxxxxxxxxxxxxxxxxxxxxxxxxxxxxxxxxxxxxxxxxxxxxxx\n"
     ]
    }
   ],
   "source": [
    "for tx in latest_blocks[-1]['transactions'][-4:]:\n",
    "        transaction = eth.get_transaction(tx)\n",
    "        print(transaction)\n",
    "        print('xxxxxxxxxxxxxxxxxxxxxxxxxxxxxxxxxxxxxxxxxxxxxxxxxxxxxxxxxxxx')\n"
   ]
  },
  {
   "cell_type": "code",
   "execution_count": 35,
   "metadata": {},
   "outputs": [
    {
     "name": "stdout",
     "output_type": "stream",
     "text": [
      "235993766379119704\n"
     ]
    }
   ],
   "source": [
    "wei_balance = w3.eth.get_balance('0x741db07eaf615a342D64e34343f3786918E652f0')\n",
    "print(wei_balance)"
   ]
  },
  {
   "cell_type": "code",
   "execution_count": 36,
   "metadata": {},
   "outputs": [
    {
     "name": "stdout",
     "output_type": "stream",
     "text": [
      "AttributeDict({'accessList': [], 'blockHash': HexBytes('0x689da01f08293cfdee5764cf8c72bb99e8bbeec2c4b16401e82dddaead3abfb9'), 'blockNumber': 13934249, 'chainId': '0x1', 'from': '0x3cD751E6b0078Be393132286c442345e5DC49699', 'gas': 21000, 'gasPrice': 117622525410, 'hash': HexBytes('0x3b1b0cca1c4ae75e55b4a69eef02e96567830cc6564990867dc06bff637db1a3'), 'input': '0x', 'maxFeePerGas': 245000000000, 'maxPriorityFeePerGas': 2000000000, 'nonce': 5414289, 'r': HexBytes('0xe334b207918b8dbbd4701625e45b3dcab34285a615437a6882c061cb6bae9f49'), 's': HexBytes('0x4d9985cc75d179c6bab462ab67a397092e0ff1a7efa480087e5ded27e30f73fb'), 'to': '0x741db07eaf615a342D64e34343f3786918E652f0', 'transactionIndex': 418, 'type': '0x2', 'v': 0, 'value': 500000000000000000})\n"
     ]
    }
   ],
   "source": [
    "transaction = w3.eth.get_transaction(0x3b1b0cca1c4ae75e55b4a69eef02e96567830cc6564990867dc06bff637db1a3)\n",
    "pprint.pprint(transaction)"
   ]
  },
  {
   "cell_type": "code",
   "execution_count": 37,
   "metadata": {},
   "outputs": [
    {
     "name": "stdout",
     "output_type": "stream",
     "text": [
      "KeysView(AttributeDict({'accessList': [], 'blockHash': HexBytes('0x689da01f08293cfdee5764cf8c72bb99e8bbeec2c4b16401e82dddaead3abfb9'), 'blockNumber': 13934249, 'chainId': '0x1', 'from': '0x3cD751E6b0078Be393132286c442345e5DC49699', 'gas': 21000, 'gasPrice': 117622525410, 'hash': HexBytes('0x3b1b0cca1c4ae75e55b4a69eef02e96567830cc6564990867dc06bff637db1a3'), 'input': '0x', 'maxFeePerGas': 245000000000, 'maxPriorityFeePerGas': 2000000000, 'nonce': 5414289, 'r': HexBytes('0xe334b207918b8dbbd4701625e45b3dcab34285a615437a6882c061cb6bae9f49'), 's': HexBytes('0x4d9985cc75d179c6bab462ab67a397092e0ff1a7efa480087e5ded27e30f73fb'), 'to': '0x741db07eaf615a342D64e34343f3786918E652f0', 'transactionIndex': 418, 'type': '0x2', 'v': 0, 'value': 500000000000000000}))\n"
     ]
    }
   ],
   "source": [
    "pprint.pprint(transaction.keys())"
   ]
  },
  {
   "cell_type": "code",
   "execution_count": 40,
   "metadata": {},
   "outputs": [
    {
     "name": "stdout",
     "output_type": "stream",
     "text": [
      "0x3cD751E6b0078Be393132286c442345e5DC49699\n",
      "0x741db07eaf615a342D64e34343f3786918E652f0\n",
      "0x3b1b0cca1c4ae75e55b4a69eef02e96567830cc6564990867dc06bff637db1a3\n",
      "117622525410\n"
     ]
    }
   ],
   "source": [
    "print(transaction['from'])\n",
    "print(transaction['to'])\n",
    "print(transaction['hash'].hex())\n",
    "print(transaction['gasPrice'])"
   ]
  },
  {
   "cell_type": "code",
   "execution_count": 39,
   "metadata": {},
   "outputs": [
    {
     "name": "stdout",
     "output_type": "stream",
     "text": [
      "0.235993766379119704\n"
     ]
    }
   ],
   "source": [
    "eth_balance = w3.fromWei(wei_balance, 'ether')\n",
    "print(eth_balance)"
   ]
  }
 ],
 "metadata": {
  "interpreter": {
   "hash": "b3ba2566441a7c06988d0923437866b63cedc61552a5af99d1f4fb67d367b25f"
  },
  "kernelspec": {
   "display_name": "Python 3.9.7 64-bit ('base': conda)",
   "language": "python",
   "name": "python3"
  },
  "language_info": {
   "codemirror_mode": {
    "name": "ipython",
    "version": 3
   },
   "file_extension": ".py",
   "mimetype": "text/x-python",
   "name": "python",
   "nbconvert_exporter": "python",
   "pygments_lexer": "ipython3",
   "version": "3.9.7"
  },
  "orig_nbformat": 4
 },
 "nbformat": 4,
 "nbformat_minor": 2
}
