{
 "cells": [
  {
   "cell_type": "code",
   "execution_count": 29,
   "metadata": {},
   "outputs": [],
   "source": [
    "import datetime"
   ]
  },
  {
   "cell_type": "code",
   "execution_count": 30,
   "metadata": {},
   "outputs": [],
   "source": [
    "my_date = datetime.date(year = 2017, month = 6, day = 11)"
   ]
  },
  {
   "cell_type": "code",
   "execution_count": 31,
   "metadata": {},
   "outputs": [
    {
     "name": "stdout",
     "output_type": "stream",
     "text": [
      "6\n",
      "7\n",
      "Sun Jun 11 00:00:00 2017\n",
      "2017-06-11\n",
      "datetime.IsoCalendarDate(year=2017, week=23, weekday=7)\n",
      "time.struct_time(tm_year=2017, tm_mon=6, tm_mday=11, tm_hour=0, tm_min=0, tm_sec=0, tm_wday=6, tm_yday=162, tm_isdst=-1)\n",
      "Sunday\n"
     ]
    }
   ],
   "source": [
    "print(my_date.weekday())\n",
    "print(my_date.isoweekday())\n",
    "print(my_date.ctime())\n",
    "print(my_date.isoformat())\n",
    "print(my_date.isocalendar())\n",
    "print(my_date.timetuple())\n",
    "print(my_date.strftime('%A'))"
   ]
  },
  {
   "cell_type": "code",
   "execution_count": 32,
   "metadata": {},
   "outputs": [
    {
     "name": "stdout",
     "output_type": "stream",
     "text": [
      "2022-08-19\n"
     ]
    }
   ],
   "source": [
    "today_is = datetime.date.today()\n",
    "print(today_is)"
   ]
  }
 ],
 "metadata": {
  "kernelspec": {
   "display_name": "Python 3.9.7 ('venv': venv)",
   "language": "python",
   "name": "python3"
  },
  "language_info": {
   "codemirror_mode": {
    "name": "ipython",
    "version": 3
   },
   "file_extension": ".py",
   "mimetype": "text/x-python",
   "name": "python",
   "nbconvert_exporter": "python",
   "pygments_lexer": "ipython3",
   "version": "3.9.7"
  },
  "orig_nbformat": 4,
  "vscode": {
   "interpreter": {
    "hash": "1f6bd7dbd499be3195d8130fe98034e19921bf931f91e6190527818d4e8ac924"
   }
  }
 },
 "nbformat": 4,
 "nbformat_minor": 2
}
