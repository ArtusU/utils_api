{
 "cells": [
  {
   "cell_type": "code",
   "execution_count": 1,
   "metadata": {},
   "outputs": [
    {
     "name": "stdout",
     "output_type": "stream",
     "text": [
      "['aax', 'ascendex', 'bequant', 'bibox', 'bigone', 'binance', 'binancecoinm', 'binanceus', 'binanceusdm', 'bit2c', 'bitbank', 'bitbay', 'bitbns', 'bitcoincom', 'bitfinex', 'bitfinex2', 'bitflyer', 'bitforex', 'bitget', 'bithumb', 'bitmart', 'bitmex', 'bitpanda', 'bitrue', 'bitso', 'bitstamp', 'bitstamp1', 'bittrex', 'bitvavo', 'bl3p', 'blockchaincom', 'btcalpha', 'btcbox', 'btcmarkets', 'btctradeua', 'btcturk', 'buda', 'bw', 'bybit', 'bytetrade', 'cdax', 'cex', 'coinbase', 'coinbaseprime', 'coinbasepro', 'coincheck', 'coinex', 'coinfalcon', 'coinmate', 'coinone', 'coinspot', 'crex24', 'cryptocom', 'currencycom', 'delta', 'deribit', 'digifinex', 'eqonex', 'equos', 'exmo', 'flowbtc', 'ftx', 'ftxus', 'gateio', 'gemini', 'hitbtc', 'hitbtc3', 'hollaex', 'huobi', 'huobijp', 'huobipro', 'idex', 'independentreserve', 'indodax', 'itbit', 'kraken', 'kucoin', 'kucoinfutures', 'kuna', 'latoken', 'latoken1', 'lbank', 'liquid', 'luno', 'lykke', 'mercado', 'mexc', 'ndax', 'novadax', 'oceanex', 'okcoin', 'okex', 'okex3', 'okex5', 'paymium', 'phemex', 'poloniex', 'probit', 'qtrade', 'ripio', 'stex', 'therock', 'tidebit', 'tidex', 'timex', 'upbit', 'vcc', 'wavesexchange', 'whitebit', 'xena', 'yobit', 'zaif', 'zb', 'zipmex', 'zonda']\n"
     ]
    }
   ],
   "source": [
    "import ccxt\n",
    "print(ccxt.exchanges)"
   ]
  },
  {
   "cell_type": "code",
   "execution_count": 3,
   "metadata": {},
   "outputs": [
    {
     "name": "stdout",
     "output_type": "stream",
     "text": [
      "{'symbol': 'ETH/USDC', 'timestamp': 1641472511512, 'datetime': '2022-01-06T12:35:11.512Z', 'high': 3832.37, 'low': 3300.0, 'bid': 3324.16, 'bidVolume': 1.2027, 'ask': 3326.28, 'askVolume': 0.4139, 'vwap': 3543.0195705, 'open': 3780.42, 'close': 3323.65, 'last': 3323.65, 'previousClose': 3782.22, 'change': -456.77, 'percentage': -12.083, 'average': 3552.035, 'baseVolume': 29129.5164, 'quoteVolume': 103206446.684403, 'info': {'symbol': 'ETHUSDC', 'priceChange': '-456.77000000', 'priceChangePercent': '-12.083', 'weightedAvgPrice': '3543.01957050', 'prevClosePrice': '3782.22000000', 'lastPrice': '3323.65000000', 'lastQty': '0.56560000', 'bidPrice': '3324.16000000', 'bidQty': '1.20270000', 'askPrice': '3326.28000000', 'askQty': '0.41390000', 'openPrice': '3780.42000000', 'highPrice': '3832.37000000', 'lowPrice': '3300.00000000', 'volume': '29129.51640000', 'quoteVolume': '103206446.68440300', 'openTime': '1641386111512', 'closeTime': '1641472511512', 'firstId': '14208794', 'lastId': '14251233', 'count': '42440'}}\n"
     ]
    }
   ],
   "source": [
    "binance = ccxt.binance()\n",
    "eth_price = binance.fetch_ticker('ETH/USDC')\n",
    "print(eth_price)"
   ]
  },
  {
   "cell_type": "code",
   "execution_count": 4,
   "metadata": {},
   "outputs": [
    {
     "name": "stdout",
     "output_type": "stream",
     "text": [
      "3323.65\n"
     ]
    }
   ],
   "source": [
    "print(eth_price['last'])"
   ]
  }
 ],
 "metadata": {
  "interpreter": {
   "hash": "03ab58b55a7bb2c87c04f0a4dde97844963836c926702846a614b1deab5f700f"
  },
  "kernelspec": {
   "display_name": "Python 3.9.7 64-bit ('venv': venv)",
   "language": "python",
   "name": "python3"
  },
  "language_info": {
   "codemirror_mode": {
    "name": "ipython",
    "version": 3
   },
   "file_extension": ".py",
   "mimetype": "text/x-python",
   "name": "python",
   "nbconvert_exporter": "python",
   "pygments_lexer": "ipython3",
   "version": "3.9.7"
  },
  "orig_nbformat": 4
 },
 "nbformat": 4,
 "nbformat_minor": 2
}
