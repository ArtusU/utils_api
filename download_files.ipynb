{
 "cells": [
  {
   "cell_type": "code",
   "execution_count": 1,
   "metadata": {},
   "outputs": [],
   "source": [
    "fname = 'hello-world.txt'\n",
    "file_object = open(fname, \"w\")\n",
    "file_object.write('Hello World')\n",
    "file_object.close()"
   ]
  },
  {
   "cell_type": "code",
   "execution_count": 2,
   "metadata": {},
   "outputs": [],
   "source": [
    "with open(fname, 'w') as file_object:\n",
    "    file_object.write('Hell world once again')"
   ]
  },
  {
   "cell_type": "code",
   "execution_count": 3,
   "metadata": {},
   "outputs": [
    {
     "name": "stdout",
     "output_type": "stream",
     "text": [
      "Hell world once again\n"
     ]
    }
   ],
   "source": [
    "with open(fname, 'r') as f:\n",
    "    print(f.read())"
   ]
  },
  {
   "cell_type": "code",
   "execution_count": 22,
   "metadata": {},
   "outputs": [],
   "source": [
    "import os\n",
    "import requests\n",
    "import shutil"
   ]
  },
  {
   "cell_type": "code",
   "execution_count": 2,
   "metadata": {},
   "outputs": [
    {
     "name": "stdout",
     "output_type": "stream",
     "text": [
      "c:\\Users\\artus\\Desktop\\Projects\\Django\\api\\__file__\n",
      "c:\\Users\\artus\\Desktop\\Projects\\Django\\api\n",
      "c:\\Users\\artus\\Desktop\\Projects\\Django\n"
     ]
    }
   ],
   "source": [
    "this_file_path = os.path.abspath('__file__')\n",
    "print(this_file_path)\n",
    "BASE_DIR = os.path.dirname(this_file_path)\n",
    "ENTIRE_PROJECT_DIR = os.path.dirname(BASE_DIR)\n",
    "print(BASE_DIR)\n",
    "print(ENTIRE_PROJECT_DIR)"
   ]
  },
  {
   "cell_type": "code",
   "execution_count": 15,
   "metadata": {},
   "outputs": [
    {
     "name": "stdout",
     "output_type": "stream",
     "text": [
      "c:\\Users\\artus\\Desktop\\Projects\\Django\\api\\templates\\email.txt\n",
      "Hello Cheetah,\n",
      "\n",
      "How's it going?\n"
     ]
    }
   ],
   "source": [
    "email_txt = os.path.join(BASE_DIR, \"templates\", \"email.txt\")\n",
    "print(email_txt)\n",
    "\n",
    "content = \"\"\n",
    "with open(email_txt, 'r') as f:\n",
    "    content = f.read()\n",
    "\n",
    "\n",
    "print(content.format(name='Cheetah'))"
   ]
  },
  {
   "cell_type": "code",
   "execution_count": 19,
   "metadata": {},
   "outputs": [],
   "source": [
    "files_dir = os.path.join(BASE_DIR, \"images\")"
   ]
  },
  {
   "cell_type": "code",
   "execution_count": 20,
   "metadata": {},
   "outputs": [],
   "source": [
    "os.makedirs(files_dir, exist_ok=True)\n",
    "\n",
    "my_images = range(0, 12)\n",
    "\n",
    "for i in my_images:\n",
    "    fname = f\"{i}.txt\"\n",
    "    file_path = os.path.join(files_dir, fname)\n",
    "    if os.path.exists(file_path):\n",
    "        print(f\"skipped {fname}\")\n",
    "        continue\n",
    "    with open(file_path, 'w') as f:\n",
    "        f.write(\"Hello world\")"
   ]
  },
  {
   "cell_type": "code",
   "execution_count": 23,
   "metadata": {},
   "outputs": [],
   "source": [
    "url='https://upload.wikimedia.org/wikipedia/commons/thumb/0/0c/Price_Lake.jpg/1024px-Price_Lake.jpg'"
   ]
  },
  {
   "cell_type": "code",
   "execution_count": 24,
   "metadata": {},
   "outputs": [],
   "source": [
    "def download_file_slower(url):\n",
    "    local_filename = url.split('/')[-1]\n",
    "    # NOTE the stream=True parameter below\n",
    "    with requests.get(url, stream=True) as r:\n",
    "        r.raise_for_status()\n",
    "        with open(local_filename, 'wb') as f:\n",
    "            for chunk in r.iter_content(chunk_size=8192): \n",
    "                if chunk: # filter out keep-alive new chunks\n",
    "                    f.write(chunk)\n",
    "                    # f.flush()\n",
    "    return local_filename"
   ]
  },
  {
   "cell_type": "code",
   "execution_count": 25,
   "metadata": {},
   "outputs": [
    {
     "data": {
      "text/plain": [
       "'1024px-Price_Lake.jpg'"
      ]
     },
     "execution_count": 25,
     "metadata": {},
     "output_type": "execute_result"
    }
   ],
   "source": [
    "download_file_slower(url)"
   ]
  },
  {
   "cell_type": "code",
   "execution_count": 26,
   "metadata": {},
   "outputs": [],
   "source": [
    "def download_file(url, directory, fname=None):\n",
    "    if fname == None:\n",
    "        fname = os.path.basename(url)\n",
    "    dl_path = os.path.join(directory, fname)\n",
    "    with requests.get(url, stream=True) as r:\n",
    "        with open(dl_path, 'wb') as f:\n",
    "            shutil.copyfileobj(r.raw, f)\n",
    "    return new_dl_path"
   ]
  },
  {
   "cell_type": "code",
   "execution_count": 28,
   "metadata": {},
   "outputs": [
    {
     "ename": "NameError",
     "evalue": "name 'new_dl_path' is not defined",
     "output_type": "error",
     "traceback": [
      "\u001b[1;31m---------------------------------------------------------------------------\u001b[0m",
      "\u001b[1;31mNameError\u001b[0m                                 Traceback (most recent call last)",
      "\u001b[1;32m~\\AppData\\Local\\Temp/ipykernel_16564/1049107311.py\u001b[0m in \u001b[0;36m<module>\u001b[1;34m\u001b[0m\n\u001b[1;32m----> 1\u001b[1;33m \u001b[0mdownload_file\u001b[0m\u001b[1;33m(\u001b[0m\u001b[0murl\u001b[0m\u001b[1;33m,\u001b[0m \u001b[1;34m'templates'\u001b[0m\u001b[1;33m)\u001b[0m\u001b[1;33m\u001b[0m\u001b[1;33m\u001b[0m\u001b[0m\n\u001b[0m",
      "\u001b[1;32m~\\AppData\\Local\\Temp/ipykernel_16564/2478585998.py\u001b[0m in \u001b[0;36mdownload_file\u001b[1;34m(url, directory, fname)\u001b[0m\n\u001b[0;32m      6\u001b[0m         \u001b[1;32mwith\u001b[0m \u001b[0mopen\u001b[0m\u001b[1;33m(\u001b[0m\u001b[0mdl_path\u001b[0m\u001b[1;33m,\u001b[0m \u001b[1;34m'wb'\u001b[0m\u001b[1;33m)\u001b[0m \u001b[1;32mas\u001b[0m \u001b[0mf\u001b[0m\u001b[1;33m:\u001b[0m\u001b[1;33m\u001b[0m\u001b[1;33m\u001b[0m\u001b[0m\n\u001b[0;32m      7\u001b[0m             \u001b[0mshutil\u001b[0m\u001b[1;33m.\u001b[0m\u001b[0mcopyfileobj\u001b[0m\u001b[1;33m(\u001b[0m\u001b[0mr\u001b[0m\u001b[1;33m.\u001b[0m\u001b[0mraw\u001b[0m\u001b[1;33m,\u001b[0m \u001b[0mf\u001b[0m\u001b[1;33m)\u001b[0m\u001b[1;33m\u001b[0m\u001b[1;33m\u001b[0m\u001b[0m\n\u001b[1;32m----> 8\u001b[1;33m     \u001b[1;32mreturn\u001b[0m \u001b[0mnew_dl_path\u001b[0m\u001b[1;33m\u001b[0m\u001b[1;33m\u001b[0m\u001b[0m\n\u001b[0m",
      "\u001b[1;31mNameError\u001b[0m: name 'new_dl_path' is not defined"
     ]
    }
   ],
   "source": [
    "download_file(url, 'templates')"
   ]
  }
 ],
 "metadata": {
  "interpreter": {
   "hash": "b3ba2566441a7c06988d0923437866b63cedc61552a5af99d1f4fb67d367b25f"
  },
  "kernelspec": {
   "display_name": "Python 3.9.7 64-bit ('base': conda)",
   "language": "python",
   "name": "python3"
  },
  "language_info": {
   "codemirror_mode": {
    "name": "ipython",
    "version": 3
   },
   "file_extension": ".py",
   "mimetype": "text/x-python",
   "name": "python",
   "nbconvert_exporter": "python",
   "pygments_lexer": "ipython3",
   "version": "3.9.7"
  },
  "orig_nbformat": 4
 },
 "nbformat": 4,
 "nbformat_minor": 2
}
