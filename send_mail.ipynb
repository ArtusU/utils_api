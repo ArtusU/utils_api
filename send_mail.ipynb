{
 "cells": [
  {
   "cell_type": "code",
   "execution_count": 1,
   "metadata": {},
   "outputs": [],
   "source": [
    "import smtplib\n",
    "import sys\n",
    "from email.mime.text import MIMEText\n",
    "from email.mime.multipart import MIMEMultipart\n",
    "\n",
    "# environment variables\n",
    "username = ''\n",
    "password = ''\n",
    "\n",
    "def send_mail(text='Email Body', subject='Hello World', from_email='Arthur <artusuroda@gmail.com', to_emails=None, html=None):\n",
    "    assert isinstance(to_emails, list)\n",
    "    \n",
    "    msg = MIMEMultipart('alternative')\n",
    "    msg['From'] = from_email\n",
    "    msg['To'] = \",\".join('emails')\n",
    "    msg['Subject'] = subject\n",
    "    txt_part = MIMEText(text, 'plain')\n",
    "    msg.attach(txt_part)\n",
    "    if html != None:\n",
    "        html_part = MIMEText(html, 'html')\n",
    "        msg.attach(html_part)\n",
    "    msg_str = msg.as_string()\n",
    "    server = smtplib.SMTP(host='smtp.gmail.com', port=587)\n",
    "    server.ehlo()\n",
    "    server.starttls()\n",
    "    server.login(username, password)\n",
    "    server.sendmail(from_email, to_emails, msg_str)   \n",
    "    server.quit()"
   ]
  },
  {
   "cell_type": "code",
   "execution_count": 20,
   "metadata": {},
   "outputs": [],
   "source": [
    "msg_template = \"\"\"Hello {name},\n",
    "Thank you for joining {website}. We are very\n",
    "happy to have you with us.\n",
    "\"\"\" # .format(name=\"Justin\", website='cfe.sh')\n",
    "\n",
    "def format_msg(my_name=\"Justin\", my_website=\"cfe.sh\"):\n",
    "    my_msg = msg_template.format(name=my_name, website=my_website)\n",
    "    return my_msg"
   ]
  },
  {
   "cell_type": "code",
   "execution_count": 21,
   "metadata": {},
   "outputs": [
    {
     "name": "stdout",
     "output_type": "stream",
     "text": [
      "['C:\\\\ProgramData\\\\Anaconda3\\\\lib\\\\site-packages\\\\ipykernel_launcher.py', '--ip=127.0.0.1', '--stdin=9018', '--control=9016', '--hb=9015', '--Session.signature_scheme=\"hmac-sha256\"', '--Session.key=b\"2bab221b-552b-479d-a56e-c819eb9aa04f\"', '--shell=9017', '--transport=\"tcp\"', '--iopub=9019', '--f=C:\\\\Users\\\\artus\\\\AppData\\\\Local\\\\Temp\\\\tmp-7888dfNySnp0ic3v.json']\n",
      "--ip=127.0.0.1 None --stdin=9018\n",
      "False\n"
     ]
    }
   ],
   "source": [
    "def send(name, website=None, to_email=None, verbose=False):\n",
    "    assert to_email != None\n",
    "    if website != None:\n",
    "        msg = format_msg(my_name=name, my_website=website)\n",
    "    else:\n",
    "        msg = format_msg(my_name=name)\n",
    "    if verbose:\n",
    "        print(name, website, to_email)\n",
    "    # send the message\n",
    "    try:\n",
    "        send_mail(text=msg, to_emails=[to_email], html=None)\n",
    "        sent = True\n",
    "    except:\n",
    "        sent = False\n",
    "    return sent\n",
    "\n",
    "if __name__ == \"__main__\":\n",
    "    print(sys.argv)\n",
    "    name = \"Unknown\"\n",
    "    if len(sys.argv) > 1:\n",
    "        name = sys.argv[1]\n",
    "    email = None\n",
    "    if len(sys.argv) > 2:\n",
    "        email = sys.argv[2]\n",
    "    response = send(name, to_email=email, verbose=True)\n",
    "    print(response)"
   ]
  },
  {
   "cell_type": "code",
   "execution_count": null,
   "metadata": {},
   "outputs": [],
   "source": [
    "send_mail(to_emails=['artururoda@gmail.com', 'artusuroda@gmail.com'])"
   ]
  },
  {
   "cell_type": "code",
   "execution_count": 23,
   "metadata": {},
   "outputs": [],
   "source": [
    "import imaplib\n",
    "import email\n",
    "\n",
    "username = ''\n",
    "password = ''\n",
    "host = 'imap.gmail.com'\n",
    "\n",
    "def get_inbox():\n",
    "    mail = imaplib.IMAP4_SSL(host)\n",
    "    mail.login(username, password)\n",
    "    mail.select(\"inbox\")\n",
    "    _, search_data = mail.search(None, 'UNSEEN')\n",
    "    my_message = []\n",
    "    for num in search_data[0].split():\n",
    "        email_data = {}\n",
    "        _, data = mail.fetch(num, '(RFC822)')\n",
    "        # print(data[0])\n",
    "        _, b = data[0]\n",
    "        email_message = email.message_from_bytes(b)\n",
    "        for header in ['subject', 'to', 'from', 'date']:\n",
    "            print(\"{}: {}\".format(header, email_message[header]))\n",
    "            email_data[header] = email_message[header]\n",
    "        for part in email_message.walk():\n",
    "            if part.get_content_type() == \"text/plain\":\n",
    "                body = part.get_payload(decode=True)\n",
    "                email_data['body'] = body.decode()\n",
    "            elif part.get_content_type() == \"text/html\":\n",
    "                html_body = part.get_payload(decode=True)\n",
    "                email_data['html_body'] = html_body.decode()\n",
    "        my_message.append(email_data)\n",
    "    return my_message"
   ]
  },
  {
   "cell_type": "code",
   "execution_count": null,
   "metadata": {},
   "outputs": [],
   "source": [
    "get_inbox()"
   ]
  }
 ],
 "metadata": {
  "interpreter": {
   "hash": "b3ba2566441a7c06988d0923437866b63cedc61552a5af99d1f4fb67d367b25f"
  },
  "kernelspec": {
   "display_name": "Python 3.9.7 64-bit ('base': conda)",
   "language": "python",
   "name": "python3"
  },
  "language_info": {
   "codemirror_mode": {
    "name": "ipython",
    "version": 3
   },
   "file_extension": ".py",
   "mimetype": "text/x-python",
   "name": "python",
   "nbconvert_exporter": "python",
   "pygments_lexer": "ipython3",
   "version": "3.9.7"
  },
  "orig_nbformat": 4
 },
 "nbformat": 4,
 "nbformat_minor": 2
}
