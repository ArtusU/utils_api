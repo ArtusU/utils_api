{
 "cells": [
  {
   "cell_type": "code",
   "execution_count": 7,
   "metadata": {},
   "outputs": [
    {
     "name": "stdout",
     "output_type": "stream",
     "text": [
      "['C:\\\\ProgramData\\\\Anaconda3\\\\lib\\\\site-packages\\\\ipykernel_launcher.py', '--ip=127.0.0.1', '--stdin=9013', '--control=9011', '--hb=9010', '--Session.signature_scheme=\"hmac-sha256\"', '--Session.key=b\"556e5373-647e-487f-9801-ca7f431fdda1\"', '--shell=9012', '--transport=\"tcp\"', '--iopub=9014', '--f=C:\\\\Users\\\\artus\\\\AppData\\\\Local\\\\Temp\\\\tmp-78882lMvZpxLMj5Z.json']\n",
      "--ip=127.0.0.1 None\n",
      "{'slideshow': {'author': 'Yours Truly', 'date': 'date of publication', 'slides': [{'title': 'Wake up to WonderWidgets!', 'type': 'all'}, {'items': ['Why <em>WonderWidgets</em> are great', 'Who <em>buys</em> WonderWidgets'], 'title': 'Overview', 'type': 'all'}], 'title': 'Sample Slide Show'}}\n"
     ]
    }
   ],
   "source": [
    "import sys\n",
    "import requests\n",
    "from datetime import datetime\n",
    "\n",
    "msg_template = \"\"\"Hello {name},\n",
    "Thank you for joining {website}. We are very\n",
    "happy to have you with us.\n",
    "\"\"\" \n",
    "\n",
    "def format_msg(my_name=\"Artus\", my_website=\"cfe.sh\"):\n",
    "    my_msg = msg_template.format(name=my_name, website=my_website)\n",
    "    return my_msg\n",
    "\n",
    "def send(name, website=None, verbose=False):\n",
    "    if website != None:\n",
    "        msg = format_msg(my_name=name)\n",
    "        return msg\n",
    "    else:\n",
    "        msg = format_msg(my_name=name)\n",
    "    if verbose:\n",
    "        print(name, website)\n",
    "        \n",
    "    r = requests.get(\"http://httpbin.org/json\")\n",
    "    if r.status_code == 200:\n",
    "        return r.json()\n",
    "    else:\n",
    "        return \"There was an error\"\n",
    "    \n",
    "if __name__ == \"__main__\":\n",
    "    print(sys.argv)\n",
    "    name = \"Unknown\"\n",
    "    if len(sys.argv) > 1:\n",
    "        name = sys.argv[1]\n",
    "    response = send(name, verbose=True)\n",
    "    print(response)"
   ]
  }
 ],
 "metadata": {
  "interpreter": {
   "hash": "b3ba2566441a7c06988d0923437866b63cedc61552a5af99d1f4fb67d367b25f"
  },
  "kernelspec": {
   "display_name": "Python 3.9.7 64-bit ('base': conda)",
   "language": "python",
   "name": "python3"
  },
  "language_info": {
   "codemirror_mode": {
    "name": "ipython",
    "version": 3
   },
   "file_extension": ".py",
   "mimetype": "text/x-python",
   "name": "python",
   "nbconvert_exporter": "python",
   "pygments_lexer": "ipython3",
   "version": "3.9.7"
  },
  "orig_nbformat": 4
 },
 "nbformat": 4,
 "nbformat_minor": 2
}
