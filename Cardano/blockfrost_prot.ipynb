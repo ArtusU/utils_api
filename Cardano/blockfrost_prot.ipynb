{
 "cells": [
  {
   "cell_type": "code",
   "execution_count": 1,
   "metadata": {},
   "outputs": [],
   "source": [
    "BLOCKFROST_API_KEY=''"
   ]
  },
  {
   "cell_type": "code",
   "execution_count": 2,
   "metadata": {},
   "outputs": [],
   "source": [
    "from blockfrost import BlockFrostApi"
   ]
  },
  {
   "cell_type": "code",
   "execution_count": 3,
   "metadata": {},
   "outputs": [],
   "source": [
    "api = BlockFrostApi(project_id=BLOCKFROST_API_KEY)"
   ]
  },
  {
   "cell_type": "code",
   "execution_count": 4,
   "metadata": {},
   "outputs": [
    {
     "name": "stdout",
     "output_type": "stream",
     "text": [
      "Namespace(is_healthy=True)\n"
     ]
    }
   ],
   "source": [
    "health = api.health()\n",
    "print(health)"
   ]
  },
  {
   "cell_type": "code",
   "execution_count": 6,
   "metadata": {},
   "outputs": [
    {
     "name": "stdout",
     "output_type": "stream",
     "text": [
      "<class 'blockfrost.api.BlockFrostApi'>\n",
      "['__class__', '__delattr__', '__dict__', '__dir__', '__doc__', '__eq__', '__format__', '__ge__', '__getattribute__', '__gt__', '__hash__', '__init__', '__init_subclass__', '__le__', '__lt__', '__module__', '__ne__', '__new__', '__reduce__', '__reduce_ex__', '__repr__', '__setattr__', '__sizeof__', '__str__', '__subclasshook__', '__weakref__', 'account_addresses', 'account_addresses_assets', 'account_addresses_total', 'account_delegations', 'account_history', 'account_mirs', 'account_registrations', 'account_rewards', 'account_withdrawals', 'accounts', 'address', 'address_extended', 'address_total', 'address_transactions', 'address_utxos', 'address_utxos_asset', 'api_version', 'asset', 'asset_addresses', 'asset_history', 'asset_transactions', 'assets', 'assets_policy', 'authentication_header', 'base_url', 'block', 'block_epoch_slot', 'block_latest', 'block_latest_transactions', 'block_slot', 'block_transactions', 'blocks_addresses', 'blocks_next', 'blocks_previous', 'clock', 'default_headers', 'epoch', 'epoch_blocks', 'epoch_latest', 'epoch_latest_parameters', 'epoch_pool_blocks', 'epoch_pool_stakes', 'epoch_stakes', 'epochs_next', 'epochs_previous', 'genesis', 'health', 'metadata_label_cbor', 'metadata_label_json', 'metadata_labels', 'metrics', 'metrics_endpoints', 'network', 'nutlink_address', 'nutlink_address_ticker', 'nutlink_address_tickers', 'nutlink_ticker', 'pool', 'pool_blocks', 'pool_delegators', 'pool_history', 'pool_metadata', 'pool_relays', 'pool_updates', 'pools', 'pools_extended', 'pools_retired', 'pools_retiring', 'project_id', 'query_parameters', 'root', 'script', 'script_cbor', 'script_datum', 'script_json', 'script_redeemers', 'scripts', 'transaction', 'transaction_delegations', 'transaction_metadata', 'transaction_metadata_cbor', 'transaction_mirs', 'transaction_pool_retires', 'transaction_pool_updates', 'transaction_redeemers', 'transaction_stakes', 'transaction_submit', 'transaction_utxos', 'transaction_withdrawals', 'url', 'user_agent_header', 'utils_addresses_xpub']\n"
     ]
    }
   ],
   "source": [
    "print(type(api))\n",
    "print(dir(api))"
   ]
  },
  {
   "cell_type": "code",
   "execution_count": 9,
   "metadata": {},
   "outputs": [
    {
     "name": "stdout",
     "output_type": "stream",
     "text": [
      "['__class__', '__delattr__', '__dict__', '__dir__', '__doc__', '__eq__', '__format__', '__ge__', '__getattribute__', '__gt__', '__hash__', '__init__', '__init_subclass__', '__le__', '__lt__', '__module__', '__ne__', '__new__', '__reduce__', '__reduce_ex__', '__repr__', '__setattr__', '__sizeof__', '__str__', '__subclasshook__', '__weakref__', 'block_vrf', 'confirmations', 'epoch', 'epoch_slot', 'fees', 'hash', 'height', 'next_block', 'output', 'previous_block', 'size', 'slot', 'slot_leader', 'time', 'to_dict', 'to_json', 'tx_count']\n"
     ]
    }
   ],
   "source": [
    "block = api.block_latest()\n",
    "print(dir(block))"
   ]
  },
  {
   "cell_type": "code",
   "execution_count": 47,
   "metadata": {},
   "outputs": [
    {
     "name": "stdout",
     "output_type": "stream",
     "text": [
      "Namespace(hash='fa762518d4b97e9f79c83382eff7cac9d40c39a07c549bbdc4888eaa2ae47227', block='411402082b1a6dc3a1a2ec55db4f7ea7ad43cb1c63a2d4b63b05b77b7c5db6cb', block_height=6584865, block_time=1638630933, slot=47064642, index=3, output_amount=[Namespace(unit='lovelace', quantity='1968055545')], fees='171221', deposit='0', size=261, invalid_before=None, invalid_hereafter='47068179', utxo_count=3, withdrawal_count=0, mir_cert_count=0, delegation_count=0, stake_cert_count=0, pool_update_count=0, pool_retire_count=0, asset_mint_or_burn_count=0, redeemer_count=0, valid_contract=True)\n"
     ]
    }
   ],
   "source": [
    "\n",
    "transaction = api.transaction('fa762518d4b97e9f79c83382eff7cac9d40c39a07c549bbdc4888eaa2ae47227')\n",
    "print(transaction)"
   ]
  },
  {
   "cell_type": "code",
   "execution_count": 51,
   "metadata": {},
   "outputs": [
    {
     "name": "stdout",
     "output_type": "stream",
     "text": [
      "[Namespace(epoch=221, amount='16576013', pool_id='pool15yyxtkhz64p7a8cnax9l7u82s9t9hdhyxsa3tdm977qhgpnsuhq'), Namespace(epoch=222, amount='17132278', pool_id='pool15yyxtkhz64p7a8cnax9l7u82s9t9hdhyxsa3tdm977qhgpnsuhq'), Namespace(epoch=223, amount='15649019', pool_id='pool15yyxtkhz64p7a8cnax9l7u82s9t9hdhyxsa3tdm977qhgpnsuhq'), Namespace(epoch=224, amount='17281719', pool_id='pool15yyxtkhz64p7a8cnax9l7u82s9t9hdhyxsa3tdm977qhgpnsuhq'), Namespace(epoch=225, amount='18604433', pool_id='pool15yyxtkhz64p7a8cnax9l7u82s9t9hdhyxsa3tdm977qhgpnsuhq')]\n",
      "221\n",
      "5\n"
     ]
    }
   ],
   "source": [
    "account_rewards = api.account_rewards(\n",
    "        stake_address='stake1ux3g2c9dx2nhhehyrezyxpkstartcqmu9hk63qgfkccw5rqttygt7',\n",
    "        count=5,\n",
    "    )\n",
    "print(account_rewards)\n",
    "print(account_rewards[0].epoch)\n",
    "print(len(account_rewards))"
   ]
  },
  {
   "cell_type": "code",
   "execution_count": 56,
   "metadata": {},
   "outputs": [
    {
     "name": "stdout",
     "output_type": "stream",
     "text": [
      "Namespace(address='addr1q9aqwjtuuqmjeksq3dhwdl28enth20k909gmhcqs5ed53vtlvv24xk7dq5c26d2p8lcc5yjdz8hxp8ka9c984xehkhjq3spekn', amount=[Namespace(unit='lovelace', quantity='487500000')], stake_address='stake1u9lkx92nt0xs2v9dx4qnluv2zfx3rmnqnmwjuzn6nvmmteqzde8a2', type='shelley', script=False)\n",
      "shelley\n",
      "lovelace\n",
      "487500000\n"
     ]
    }
   ],
   "source": [
    "address = api.address(address='addr1q9aqwjtuuqmjeksq3dhwdl28enth20k909gmhcqs5ed53vtlvv24xk7dq5c26d2p8lcc5yjdz8hxp8ka9c984xehkhjq3spekn')\n",
    "print(address)\n",
    "print(address.type)  # prints 'shelley'\n",
    "for amount in address.amount:\n",
    "    print(amount.unit)  # prints 'lovelace'\n",
    "    print(amount.quantity)"
   ]
  },
  {
   "cell_type": "code",
   "execution_count": 58,
   "metadata": {},
   "outputs": [
    {
     "name": "stdout",
     "output_type": "stream",
     "text": [
      "[Namespace(asset='00000002df633853f6a47465c9496721d2d5b1291b8398016c0e87ae6e7574636f696e', quantity='1'), Namespace(asset='3a9241cd79895e3a8d65261b40077d4437ce71e9d7c8c6c00e3f658e4669727374636f696e', quantity='1'), Namespace(asset='02f68378e37af4545d027d0a9fa5581ac682897a3fc1f6d8f936ed2b4154414441', quantity='2000000'), Namespace(asset='e8e62d329e73190190c3e323fb5c9fb98ee55f0676332ba949f29d724649525354', quantity='1'), Namespace(asset='ac3f4224723e2ed9d166478662f6e48bae9ddf0fc5ee58f54f6c322943454e54', quantity='10000000')]\n"
     ]
    }
   ],
   "source": [
    "assets = api.assets(count=5)\n",
    "print(assets)"
   ]
  },
  {
   "cell_type": "code",
   "execution_count": 62,
   "metadata": {},
   "outputs": [
    {
     "name": "stdout",
     "output_type": "stream",
     "text": [
      "Namespace(asset='02f68378e37af4545d027d0a9fa5581ac682897a3fc1f6d8f936ed2b4154414441', policy_id='02f68378e37af4545d027d0a9fa5581ac682897a3fc1f6d8f936ed2b', asset_name='4154414441', fingerprint='asset1tm62f04gz390cjxttq4gz0s43lswr9estr2jcz', quantity='2000000', initial_mint_tx_hash='8509901c9342227e47fd209c43bdf333d7dbc479126a4058e5ddef36d09c3a08', mint_or_burn_count=2, onchain_metadata=None, metadata=Namespace(name='ATADA Coin', description='This is the NativeCoin of the ATADA / ATAD2 StakePool Austria.', ticker='ATADA', url='https://stakepool.at', logo='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', decimals=None))\n"
     ]
    }
   ],
   "source": [
    "asset = api.asset('02f68378e37af4545d027d0a9fa5581ac682897a3fc1f6d8f936ed2b4154414441')\n",
    "print(asset)"
   ]
  }
 ],
 "metadata": {
  "interpreter": {
   "hash": "03ab58b55a7bb2c87c04f0a4dde97844963836c926702846a614b1deab5f700f"
  },
  "kernelspec": {
   "display_name": "Python 3.9.7 64-bit ('venv': venv)",
   "language": "python",
   "name": "python3"
  },
  "language_info": {
   "codemirror_mode": {
    "name": "ipython",
    "version": 3
   },
   "file_extension": ".py",
   "mimetype": "text/x-python",
   "name": "python",
   "nbconvert_exporter": "python",
   "pygments_lexer": "ipython3",
   "version": "3.9.7"
  },
  "orig_nbformat": 4
 },
 "nbformat": 4,
 "nbformat_minor": 2
}
