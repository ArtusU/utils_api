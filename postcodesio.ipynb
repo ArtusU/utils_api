{
 "cells": [
  {
   "cell_type": "code",
   "execution_count": 81,
   "metadata": {},
   "outputs": [],
   "source": [
    "import requests\n",
    "import json\n",
    "\n",
    "\n",
    "def get_results(postcode):\n",
    "\tfull_url = f\"https://api.postcodes.io/postcodes/{postcode}\"\t\t\n",
    "\tr = requests.get(full_url)\n",
    "\tif r.status_code == 200:\n",
    "\t\tresult = r.json()[\"result\"]\n",
    "\t\treturn(result)\n",
    "\n",
    "\n",
    "def get_latlng(postcode):\n",
    "\tfull_url = f\"https://api.postcodes.io/postcodes/{postcode}\"\t\t\n",
    "\tr = requests.get(full_url)\n",
    "\tif r.status_code == 200:\n",
    "\t\tresult = r.json()[\"result\"]\n",
    "\t\tlat = result[\"latitude\"]\n",
    "\t\tlng = result[\"longitude\"]\n",
    "\t\treturn(lat, lng)\n"
   ]
  },
  {
   "cell_type": "code",
   "execution_count": 84,
   "metadata": {},
   "outputs": [
    {
     "data": {
      "text/plain": [
       "{'postcode': 'EH8 8AU',\n",
       " 'quality': 1,\n",
       " 'eastings': 326555,\n",
       " 'northings': 673681,\n",
       " 'country': 'Scotland',\n",
       " 'nhs_ha': 'Lothian',\n",
       " 'longitude': -3.177681,\n",
       " 'latitude': 55.950525,\n",
       " 'european_electoral_region': 'Scotland',\n",
       " 'primary_care_trust': 'Edinburgh Community Health Partnership',\n",
       " 'region': None,\n",
       " 'lsoa': 'Canongate, Southside and Dumbiedykes - 05',\n",
       " 'msoa': 'Canongate, Southside and Dumbiedykes',\n",
       " 'incode': '8AU',\n",
       " 'outcode': 'EH8',\n",
       " 'parliamentary_constituency': 'Edinburgh East',\n",
       " 'admin_district': 'City of Edinburgh',\n",
       " 'parish': None,\n",
       " 'admin_county': None,\n",
       " 'admin_ward': 'City Centre',\n",
       " 'ced': None,\n",
       " 'ccg': 'Edinburgh Community Health Partnership',\n",
       " 'nuts': 'City of Edinburgh',\n",
       " 'codes': {'admin_district': 'S12000036',\n",
       "  'admin_county': 'S99999999',\n",
       "  'admin_ward': 'S13002929',\n",
       "  'parish': 'S99999999',\n",
       "  'parliamentary_constituency': 'S14000022',\n",
       "  'ccg': 'S03000042',\n",
       "  'ccg_id': '042',\n",
       "  'ced': 'S99999999',\n",
       "  'nuts': 'TLM75',\n",
       "  'lsoa': 'S01008684',\n",
       "  'msoa': 'S02001623',\n",
       "  'lau2': 'S30000008'}}"
      ]
     },
     "execution_count": 84,
     "metadata": {},
     "output_type": "execute_result"
    }
   ],
   "source": [
    "get_results('EH8 8AU')"
   ]
  },
  {
   "cell_type": "code",
   "execution_count": 83,
   "metadata": {},
   "outputs": [
    {
     "data": {
      "text/plain": [
       "(55.950525, -3.177681)"
      ]
     },
     "execution_count": 83,
     "metadata": {},
     "output_type": "execute_result"
    }
   ],
   "source": [
    "get_latlng('EH8 8AU')"
   ]
  },
  {
   "cell_type": "code",
   "execution_count": 74,
   "metadata": {},
   "outputs": [],
   "source": [
    "BASE_URL = \"http://api.postcodes.io/postcodes/\"\n",
    "\n",
    "\n",
    "class PostCodeClient(object):\n",
    "    def get_data_postcode(self, postcode):\n",
    "        self.postcode = postcode\n",
    "        data = requests.get(BASE_URL + postcode).text\n",
    "        return data\n",
    "    \n",
    "    def get_latlng(self, postcode):\n",
    "        result_str = self.get_data_postcode(postcode)\n",
    "        resuslt_dict = json.loads(result_str)\n",
    "        result = resuslt_dict[\"result\"]\n",
    "        lat = result[\"latitude\"]\n",
    "        lng = result[\"longitude\"]\n",
    "        return(lat, lng)\n",
    "    "
   ]
  },
  {
   "cell_type": "code",
   "execution_count": 75,
   "metadata": {},
   "outputs": [
    {
     "name": "stdout",
     "output_type": "stream",
     "text": [
      "(55.950525, -3.177681)\n"
     ]
    }
   ],
   "source": [
    "clinet2 = PostCodeClient()\n",
    "postcode_latlng = clinet2.get_latlng('EH8 8AU')\n",
    "print(postcode_latlng)"
   ]
  },
  {
   "cell_type": "code",
   "execution_count": 57,
   "metadata": {},
   "outputs": [
    {
     "name": "stdout",
     "output_type": "stream",
     "text": [
      "{\"status\":200,\"result\":{\"postcode\":\"EH8 8AU\",\"quality\":1,\"eastings\":326555,\"northings\":673681,\"country\":\"Scotland\",\"nhs_ha\":\"Lothian\",\"longitude\":-3.177681,\"latitude\":55.950525,\"european_electoral_region\":\"Scotland\",\"primary_care_trust\":\"Edinburgh Community Health Partnership\",\"region\":null,\"lsoa\":\"Canongate, Southside and Dumbiedykes - 05\",\"msoa\":\"Canongate, Southside and Dumbiedykes\",\"incode\":\"8AU\",\"outcode\":\"EH8\",\"parliamentary_constituency\":\"Edinburgh East\",\"admin_district\":\"City of Edinburgh\",\"parish\":null,\"admin_county\":null,\"admin_ward\":\"City Centre\",\"ced\":null,\"ccg\":\"Edinburgh Community Health Partnership\",\"nuts\":\"City of Edinburgh\",\"codes\":{\"admin_district\":\"S12000036\",\"admin_county\":\"S99999999\",\"admin_ward\":\"S13002929\",\"parish\":\"S99999999\",\"parliamentary_constituency\":\"S14000022\",\"ccg\":\"S03000042\",\"ccg_id\":\"042\",\"ced\":\"S99999999\",\"nuts\":\"TLM75\",\"lsoa\":\"S01008684\",\"msoa\":\"S02001623\",\"lau2\":\"S30000008\"}}}\n"
     ]
    }
   ],
   "source": [
    "clinet = PostCodeClient()\n",
    "postcode_data = clinet.get_data_postcode('EH8 8AU')\n",
    "print(postcode_data)"
   ]
  }
 ],
 "metadata": {
  "interpreter": {
   "hash": "b3ba2566441a7c06988d0923437866b63cedc61552a5af99d1f4fb67d367b25f"
  },
  "kernelspec": {
   "display_name": "Python 3.9.7 64-bit ('base': conda)",
   "language": "python",
   "name": "python3"
  },
  "language_info": {
   "codemirror_mode": {
    "name": "ipython",
    "version": 3
   },
   "file_extension": ".py",
   "mimetype": "text/x-python",
   "name": "python",
   "nbconvert_exporter": "python",
   "pygments_lexer": "ipython3",
   "version": "3.9.7"
  },
  "orig_nbformat": 4
 },
 "nbformat": 4,
 "nbformat_minor": 2
}
