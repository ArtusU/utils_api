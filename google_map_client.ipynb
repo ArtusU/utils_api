{
 "cells": [
  {
   "cell_type": "code",
   "execution_count": 37,
   "metadata": {},
   "outputs": [],
   "source": [
    "import requests\n",
    "from urllib.parse import urlencode, urlparse, parse_qsl"
   ]
  },
  {
   "cell_type": "code",
   "execution_count": 38,
   "metadata": {},
   "outputs": [],
   "source": [
    "GOOGLE_API_KEY=''"
   ]
  },
  {
   "cell_type": "code",
   "execution_count": 39,
   "metadata": {},
   "outputs": [],
   "source": [
    "class GoogleMapClient(object):\n",
    "    lat = None\n",
    "    lng = None\n",
    "    data_type = 'json'\n",
    "    location_query = None\n",
    "    api_key = None\n",
    "    \n",
    "    def __init__(self, api_key=None, address_or_postcode=None, *args, **kwargs):\n",
    "        super().__init__(*args, **kwargs)\n",
    "        if api_key == None:\n",
    "            raise Exception('API key is required')\n",
    "        self.api_key = api_key\n",
    "        self.location_query = address_or_postcode\n",
    "        if self.location_query != None:\n",
    "            self.extract_lat_lng()\n",
    "        \n",
    "    \n",
    "    def extract_lat_lng(self, location=None):\n",
    "        loc_query = self.location_query\n",
    "        if location != None:\n",
    "            loc_query = location\n",
    "        endpiont= f'https://maps.googleapis.com/maps/api/geocode/{self.data_type}'\n",
    "        params= {'address': loc_query, 'key': self.api_key}\n",
    "        url_params = urlencode(params)\n",
    "        url = f'{endpiont}?{url_params}'\n",
    "        r = requests.get(url)\n",
    "        if r.status_code not in range(200, 299):\n",
    "            return {}\n",
    "        latlong = {}\n",
    "        try:\n",
    "            latlong = r.json()['results'][0]['geometry']['location']\n",
    "        except:\n",
    "            pass\n",
    "        lat, lng = latlong.get('lat'), latlong.get('lng')\n",
    "        self.lat = lat\n",
    "        self.lng = lng\n",
    "        return lat, lng\n",
    "    \n",
    "    \n",
    "    def search(self, keyword=\"Doner Kebab\", redius=1000, location=None):\n",
    "        lat, lng = self.lat, self.lng\n",
    "        if location != None:\n",
    "            lat, lng = self.extract_lat_lng()\n",
    "        endpoint = f\"https://maps.googleapis.com/maps/api/place/nearbysearch/{self.data_type}\"\n",
    "        params = {\n",
    "            \"key\": self.api_key,\n",
    "            \"location\": f\"{lat},{lng}\",\n",
    "            \"radius\": redius,\n",
    "            \"keyword\": \"Doner Kebab\"\n",
    "        }\n",
    "        params_encoded = urlencode(params)\n",
    "        places_url = f\"{endpoint}?{params_encoded}\"\n",
    "\n",
    "        r = requests.get(places_url)\n",
    "        if r.status_code not in range(200, 299):\n",
    "            return {}\n",
    "        return r.json()\n",
    "    \n",
    "    def detail(self, place_id=\"ChIJlXOKcDC3j4ARzal-5j-p-FY\", fields=[\"name\", \"rating\", \"formatted_phone_number\", \"formatted_address\"]):\n",
    "        detail_base_endpoint = f\"https://maps.googleapis.com/maps/api/place/details/{self.data_type}\"\n",
    "        detail_params = {\n",
    "            \"place_id\": f\"{place_id}\",\n",
    "            \"fields\" : \",\".join(fields),\n",
    "            \"key\": self.api_key\n",
    "        }\n",
    "        detail_params_encoded = urlencode(detail_params)\n",
    "        detail_url = f\"{detail_base_endpoint}?{detail_params_encoded}\"\n",
    "        r = requests.get(detail_url)\n",
    "        if r.status_code not in range(200, 299):\n",
    "            return {}\n",
    "        return r.json()"
   ]
  },
  {
   "cell_type": "code",
   "execution_count": 40,
   "metadata": {},
   "outputs": [
    {
     "name": "stdout",
     "output_type": "stream",
     "text": [
      "55.9496024 -3.1092874\n"
     ]
    }
   ],
   "source": [
    "client = GoogleMapClient(api_key=GOOGLE_API_KEY, address_or_postcode='Portobello, UK')\n",
    "print(client.lat, client.lng)"
   ]
  },
  {
   "cell_type": "code",
   "execution_count": 43,
   "metadata": {},
   "outputs": [
    {
     "name": "stdout",
     "output_type": "stream",
     "text": [
      "55.9492382 -3.1782842\n"
     ]
    }
   ],
   "source": [
    "client2 = GoogleMapClient(api_key=GOOGLE_API_KEY, address_or_postcode='EH8 9UG')\n",
    "print(client2.lat, client2.lng)"
   ]
  },
  {
   "cell_type": "code",
   "execution_count": 42,
   "metadata": {},
   "outputs": [
    {
     "data": {
      "text/plain": [
       "{'html_attributions': [],\n",
       " 'result': {'formatted_address': '6a Milton Rd W, Edinburgh EH15 1LF, UK',\n",
       "  'formatted_phone_number': '0131 669 3219',\n",
       "  'name': 'Milton Fry',\n",
       "  'rating': 4.1},\n",
       " 'status': 'OK'}"
      ]
     },
     "execution_count": 42,
     "metadata": {},
     "output_type": "execute_result"
    }
   ],
   "source": [
    "client.detail(place_id='ChIJNQsn1Kq5h0gRSQnhPRkr9J4')"
   ]
  },
  {
   "cell_type": "code",
   "execution_count": 47,
   "metadata": {},
   "outputs": [
    {
     "data": {
      "text/plain": [
       "{'html_attributions': [],\n",
       " 'results': [{'business_status': 'OPERATIONAL',\n",
       "   'geometry': {'location': {'lat': 55.9544229, 'lng': -3.1166498},\n",
       "    'viewport': {'northeast': {'lat': 55.95574182989272,\n",
       "      'lng': -3.115358370107277},\n",
       "     'southwest': {'lat': 55.95304217010728, 'lng': -3.118058029892722}}},\n",
       "   'icon': 'https://maps.gstatic.com/mapfiles/place_api/icons/v1/png_71/restaurant-71.png',\n",
       "   'icon_background_color': '#FF9E67',\n",
       "   'icon_mask_base_uri': 'https://maps.gstatic.com/mapfiles/place_api/icons/v2/restaurant_pinlet',\n",
       "   'name': 'Istanbul Takeaway',\n",
       "   'opening_hours': {'open_now': True},\n",
       "   'photos': [{'height': 2988,\n",
       "     'html_attributions': ['<a href=\"https://maps.google.com/maps/contrib/114576900135953900755\">Omer Rizwan</a>'],\n",
       "     'photo_reference': 'Aap_uECbefLrut1siuwaQrdgIp8hF4XqvufgWnp0qg6KTQQZdK_g91_h-9xz2uNp7l1dvPIlu_3vM8lpOmr7vcSDB7k_Ad6BvDFNBDCvqZmbu-fuQdTuTb-eR99mHSQhq-t4mAG5V11YhYiaS50qfevymYxaNx8OwBWZe6KGiAfTaljtxLlA',\n",
       "     'width': 5312}],\n",
       "   'place_id': 'ChIJZcGA-rK5h0gRp9tnqOQDxsA',\n",
       "   'plus_code': {'compound_code': 'XV3M+Q8 Edinburgh',\n",
       "    'global_code': '9C7RXV3M+Q8'},\n",
       "   'price_level': 1,\n",
       "   'rating': 3.8,\n",
       "   'reference': 'ChIJZcGA-rK5h0gRp9tnqOQDxsA',\n",
       "   'scope': 'GOOGLE',\n",
       "   'types': ['restaurant', 'food', 'point_of_interest', 'establishment'],\n",
       "   'user_ratings_total': 88,\n",
       "   'vicinity': '80 Portobello High St, Portobello, Edinburgh'},\n",
       "  {'business_status': 'OPERATIONAL',\n",
       "   'geometry': {'location': {'lat': 55.9436388, 'lng': -3.1176437},\n",
       "    'viewport': {'northeast': {'lat': 55.94491687989272,\n",
       "      'lng': -3.116375470107278},\n",
       "     'southwest': {'lat': 55.94221722010727, 'lng': -3.119075129892722}}},\n",
       "   'icon': 'https://maps.gstatic.com/mapfiles/place_api/icons/v1/png_71/restaurant-71.png',\n",
       "   'icon_background_color': '#FF9E67',\n",
       "   'icon_mask_base_uri': 'https://maps.gstatic.com/mapfiles/place_api/icons/v2/restaurant_pinlet',\n",
       "   'name': 'Milton Fry',\n",
       "   'opening_hours': {'open_now': True},\n",
       "   'photos': [{'height': 267,\n",
       "     'html_attributions': ['<a href=\"https://maps.google.com/maps/contrib/101145674181016965747\">Nevzat Aydin</a>'],\n",
       "     'photo_reference': 'Aap_uEAtoUgon9EiTpEDqlg9NUmkTxTJ8Sme8vlzhCLYK6f1zYn5OLIBJUOnIaKcduEQr8VJ5HRrRR4zSvIV5H2IPte8VeGUPw6xTyvskkFXorFco6ZKHPB5VsEZNAcinm7CqZVQczc2VFXQm014MnzzA-lwPwwYcXDsN4gdrWZEn3eBroA8',\n",
       "     'width': 400}],\n",
       "   'place_id': 'ChIJNQsn1Kq5h0gRSQnhPRkr9J4',\n",
       "   'plus_code': {'compound_code': 'WVVJ+FW Edinburgh',\n",
       "    'global_code': '9C7RWVVJ+FW'},\n",
       "   'price_level': 2,\n",
       "   'rating': 4.1,\n",
       "   'reference': 'ChIJNQsn1Kq5h0gRSQnhPRkr9J4',\n",
       "   'scope': 'GOOGLE',\n",
       "   'types': ['meal_delivery',\n",
       "    'meal_takeaway',\n",
       "    'liquor_store',\n",
       "    'restaurant',\n",
       "    'food',\n",
       "    'health',\n",
       "    'point_of_interest',\n",
       "    'store',\n",
       "    'establishment'],\n",
       "   'user_ratings_total': 160,\n",
       "   'vicinity': '6a Milton Rd W, Edinburgh'}],\n",
       " 'status': 'OK'}"
      ]
     },
     "execution_count": 47,
     "metadata": {},
     "output_type": "execute_result"
    }
   ],
   "source": [
    "client.search('pizza')"
   ]
  },
  {
   "cell_type": "code",
   "execution_count": 41,
   "metadata": {},
   "outputs": [
    {
     "data": {
      "text/plain": [
       "{'html_attributions': [],\n",
       " 'results': [{'business_status': 'OPERATIONAL',\n",
       "   'geometry': {'location': {'lat': 55.9544229, 'lng': -3.1166498},\n",
       "    'viewport': {'northeast': {'lat': 55.95574182989272,\n",
       "      'lng': -3.115358370107277},\n",
       "     'southwest': {'lat': 55.95304217010728, 'lng': -3.118058029892722}}},\n",
       "   'icon': 'https://maps.gstatic.com/mapfiles/place_api/icons/v1/png_71/restaurant-71.png',\n",
       "   'icon_background_color': '#FF9E67',\n",
       "   'icon_mask_base_uri': 'https://maps.gstatic.com/mapfiles/place_api/icons/v2/restaurant_pinlet',\n",
       "   'name': 'Istanbul Takeaway',\n",
       "   'opening_hours': {'open_now': True},\n",
       "   'photos': [{'height': 2988,\n",
       "     'html_attributions': ['<a href=\"https://maps.google.com/maps/contrib/114576900135953900755\">Omer Rizwan</a>'],\n",
       "     'photo_reference': 'Aap_uECYntWaj7dMqcOcH3VKc6Ork1QryU7zPvN3ZvhqFJ-2WlJn82lZaewHSaWQbIu8KTx_gjCCODOI-hBQt4LkR8keB5yxigyLOfS6Oof305fvjlDI3J6fuFinm1R0r8irKhsaShUehMjNbJepfzZ_6Yee7PZk1kZXS51jAObJ27AXaRdX',\n",
       "     'width': 5312}],\n",
       "   'place_id': 'ChIJZcGA-rK5h0gRp9tnqOQDxsA',\n",
       "   'plus_code': {'compound_code': 'XV3M+Q8 Edinburgh',\n",
       "    'global_code': '9C7RXV3M+Q8'},\n",
       "   'price_level': 1,\n",
       "   'rating': 3.8,\n",
       "   'reference': 'ChIJZcGA-rK5h0gRp9tnqOQDxsA',\n",
       "   'scope': 'GOOGLE',\n",
       "   'types': ['restaurant', 'food', 'point_of_interest', 'establishment'],\n",
       "   'user_ratings_total': 88,\n",
       "   'vicinity': '80 Portobello High St, Portobello, Edinburgh'},\n",
       "  {'business_status': 'OPERATIONAL',\n",
       "   'geometry': {'location': {'lat': 55.9436388, 'lng': -3.1176437},\n",
       "    'viewport': {'northeast': {'lat': 55.94491687989272,\n",
       "      'lng': -3.116375470107278},\n",
       "     'southwest': {'lat': 55.94221722010727, 'lng': -3.119075129892722}}},\n",
       "   'icon': 'https://maps.gstatic.com/mapfiles/place_api/icons/v1/png_71/restaurant-71.png',\n",
       "   'icon_background_color': '#FF9E67',\n",
       "   'icon_mask_base_uri': 'https://maps.gstatic.com/mapfiles/place_api/icons/v2/restaurant_pinlet',\n",
       "   'name': 'Milton Fry',\n",
       "   'opening_hours': {'open_now': True},\n",
       "   'photos': [{'height': 267,\n",
       "     'html_attributions': ['<a href=\"https://maps.google.com/maps/contrib/101145674181016965747\">Nevzat Aydin</a>'],\n",
       "     'photo_reference': 'Aap_uECVG2cLCu7lR9--lsqcG81OA3ihnob0dITL17iHbdoENOWJFNF8jzMq-CTmkoovWz57VNI3q5v-pd_Vl7tq6vikHdgPscLAPRBX8H_rkpgmQSxai65mO5fJG3JfcNeTRDyTkfO678LftohRxUTw1v2zCxOET_4ozyKK1UdZ8f-KFyfP',\n",
       "     'width': 400}],\n",
       "   'place_id': 'ChIJNQsn1Kq5h0gRSQnhPRkr9J4',\n",
       "   'plus_code': {'compound_code': 'WVVJ+FW Edinburgh',\n",
       "    'global_code': '9C7RWVVJ+FW'},\n",
       "   'price_level': 2,\n",
       "   'rating': 4.1,\n",
       "   'reference': 'ChIJNQsn1Kq5h0gRSQnhPRkr9J4',\n",
       "   'scope': 'GOOGLE',\n",
       "   'types': ['meal_delivery',\n",
       "    'meal_takeaway',\n",
       "    'liquor_store',\n",
       "    'restaurant',\n",
       "    'food',\n",
       "    'health',\n",
       "    'point_of_interest',\n",
       "    'store',\n",
       "    'establishment'],\n",
       "   'user_ratings_total': 160,\n",
       "   'vicinity': '6a Milton Rd W, Edinburgh'}],\n",
       " 'status': 'OK'}"
      ]
     },
     "execution_count": 41,
     "metadata": {},
     "output_type": "execute_result"
    }
   ],
   "source": [
    "client.search('pizza', location='Edinburgh, UK')"
   ]
  }
 ],
 "metadata": {
  "interpreter": {
   "hash": "b3ba2566441a7c06988d0923437866b63cedc61552a5af99d1f4fb67d367b25f"
  },
  "kernelspec": {
   "display_name": "Python 3.9.7 64-bit ('base': conda)",
   "language": "python",
   "name": "python3"
  },
  "language_info": {
   "codemirror_mode": {
    "name": "ipython",
    "version": 3
   },
   "file_extension": ".py",
   "mimetype": "text/x-python",
   "name": "python",
   "nbconvert_exporter": "python",
   "pygments_lexer": "ipython3",
   "version": "3.9.7"
  },
  "orig_nbformat": 4
 },
 "nbformat": 4,
 "nbformat_minor": 2
}
