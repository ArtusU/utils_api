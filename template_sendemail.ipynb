{
 "cells": [
  {
   "cell_type": "code",
   "execution_count": 20,
   "metadata": {},
   "outputs": [],
   "source": [
    "import os\n",
    "\n",
    "FILE_PATH = os.path.abspath('__file__')\n",
    "BASE_DIR = os.path.dirname(FILE_PATH)\n",
    "TEMPLATE_DIR = os.path.join(BASE_DIR, \"templates\")\n",
    "\n",
    "class Template:\n",
    "    template_name = ''\n",
    "    context = None\n",
    "    \n",
    "    def __init__(self, template_name=\"name\", context=None, *args, **kwargs):\n",
    "        self.template_name = template_name\n",
    "        self.context = context\n",
    "    \n",
    "    def get_template(self):\n",
    "        template_path = os.path.join(TEMPLATE_DIR, self.template_name)\n",
    "        if not os.path.exists(template_path):\n",
    "            raise Exception('This path does not exist')\n",
    "        template_string = ''\n",
    "        with open(template_path, 'r') as f:\n",
    "            template_string = f.read()\n",
    "        return template_string\n",
    "    \n",
    "    def render(self, context=None):\n",
    "        render_ctx = context\n",
    "        if self.context != None:\n",
    "            render_ctx = self.context\n",
    "        if not isinstance(render_ctx, dict):\n",
    "            render_ctx = {}\n",
    "        template_string = self.get_template()\n",
    "        return template_string.format(**render_ctx)"
   ]
  },
  {
   "cell_type": "code",
   "execution_count": 21,
   "metadata": {},
   "outputs": [
    {
     "data": {
      "text/plain": [
       "\"Hello Cheetah. I'm going to lick you honey!\""
      ]
     },
     "execution_count": 21,
     "metadata": {},
     "output_type": "execute_result"
    }
   ],
   "source": [
    "tmpl = Template(template_name='hello.txt', context={'name': 'Cheetah'})\n",
    "tmpl.get_template()\n",
    "tmpl.render()"
   ]
  },
  {
   "cell_type": "code",
   "execution_count": 22,
   "metadata": {},
   "outputs": [],
   "source": [
    "import smtplib\n",
    "from email.mime.text import MIMEText\n",
    "from email.mime.multipart import MIMEMultipart\n",
    "\n",
    "# environment variables\n",
    "username = ''\n",
    "password = ''\n",
    "\n",
    "\n",
    "class Emailer():\n",
    "    subject = \"\"\n",
    "    context = {}\n",
    "    to_emails = []\n",
    "    has_html = False\n",
    "    test_send = False\n",
    "    from_email  = ''\n",
    "    template_html = None\n",
    "    template_name = None\n",
    "    \n",
    "    \n",
    "    def __init__(self, subject=\"\", template_name=None, context={}, template_html=None, to_emails=None, test_send=False):\n",
    "        if template_name == None and template_html == None:\n",
    "            raise Exception(\"You must set a template\")\n",
    "        assert isinstance(to_emails, list)\n",
    "        self.to_emails = to_emails\n",
    "        self.subject = subject\n",
    "        if template_html != None:\n",
    "            self.has_html = True\n",
    "            self.template_html = template_html\n",
    "        self.template_name = template_name\n",
    "        self.context = context\n",
    "        self.test_send = test_send\n",
    "        \n",
    "    def format_msg(self):\n",
    "        msg = MIMEMultipart('alternative')\n",
    "        msg['From'] = self.from_email\n",
    "        msg['To'] = \", \".join(self.to_emails)\n",
    "        msg['Subject'] = self.subject\n",
    "\n",
    "        if self.template_name != None:\n",
    "            tmpl_str = Template(template_name=self.template_name, context=self.context)\n",
    "            txt_part = MIMEText(tmpl_str.render(), 'plain')\n",
    "            print(txt_part)\n",
    "            msg.attach(txt_part)\n",
    "        if self.template_html != None:\n",
    "            tmpl_str = Template(template_name=self.template_html, context=self.context)\n",
    "            html_part = MIMEText(tmpl_str.render(), 'html')\n",
    "            print(html_part)\n",
    "            msg.attach(html_part)\n",
    "        msg_str = msg.as_string()\n",
    "        return msg_str\n",
    "    \n",
    "    def send(self):\n",
    "        msg = self.format_msg()\n",
    "        did_send = False\n",
    "        if not self.test_send:\n",
    "            with smtplib.SMTP(host='smtp.gmail.com', port=587) as server:\n",
    "                server.ehlo()\n",
    "                server.starttls()\n",
    "                server.login(username, password)\n",
    "                try:\n",
    "                    server.sendmail(msg)\n",
    "                    did_send = True\n",
    "                except:\n",
    "                    did_send = False\n",
    "        return did_send\n",
    "    "
   ]
  },
  {
   "cell_type": "code",
   "execution_count": 23,
   "metadata": {},
   "outputs": [
    {
     "name": "stdout",
     "output_type": "stream",
     "text": [
      "Content-Type: text/plain; charset=\"us-ascii\"\n",
      "MIME-Version: 1.0\n",
      "Content-Transfer-Encoding: 7bit\n",
      "\n",
      "Hello Cheetah. I'm going to lick you honey!\n",
      "Content-Type: text/html; charset=\"us-ascii\"\n",
      "MIME-Version: 1.0\n",
      "Content-Transfer-Encoding: 7bit\n",
      "\n",
      "<h1>Hello Cheetah. I'm going to lick you honey!</h1>\n",
      "\n"
     ]
    },
    {
     "data": {
      "text/plain": [
       "False"
      ]
     },
     "execution_count": 23,
     "metadata": {},
     "output_type": "execute_result"
    }
   ],
   "source": [
    "obj = Emailer(subject='Hello Darling', context={'name': 'Cheetah'}, template_name='hello.txt', template_html='hello.html', to_emails=['artururoda@gmail.com'], test_send=False)\n",
    "obj.send()"
   ]
  }
 ],
 "metadata": {
  "interpreter": {
   "hash": "b3ba2566441a7c06988d0923437866b63cedc61552a5af99d1f4fb67d367b25f"
  },
  "kernelspec": {
   "display_name": "Python 3.9.7 64-bit ('base': conda)",
   "language": "python",
   "name": "python3"
  },
  "language_info": {
   "codemirror_mode": {
    "name": "ipython",
    "version": 3
   },
   "file_extension": ".py",
   "mimetype": "text/x-python",
   "name": "python",
   "nbconvert_exporter": "python",
   "pygments_lexer": "ipython3",
   "version": "3.9.7"
  },
  "orig_nbformat": 4
 },
 "nbformat": 4,
 "nbformat_minor": 2
}
