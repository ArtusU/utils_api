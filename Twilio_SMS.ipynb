{
 "cells": [
  {
   "cell_type": "code",
   "execution_count": 3,
   "metadata": {},
   "outputs": [],
   "source": [
    "import json\n",
    "from getpass import getpass\n",
    "\n",
    "reset_creds = False\n",
    "\n",
    "if reset_creds:\n",
    "    twilio_sid = getpass(\"What's the Twilio Account SID?\")\n",
    "    twilio_secret = getpass(\"What's the Twilio Secret?\")\n",
    "    '''\n",
    "    This will save our creds from above (blank or not) to a local file\n",
    "    named `creds.json` so we can re-use this credentials.\n",
    "    '''\n",
    "    data = {\n",
    "        \"twilio_sid\": twilio_sid,\n",
    "        \"twilio_secret\": twilio_secret\n",
    "    }\n",
    "    json_data = json.dumps(data)\n",
    "    with open('creds.json', 'w') as f:\n",
    "        f.write(json_data)"
   ]
  },
  {
   "cell_type": "code",
   "execution_count": 11,
   "metadata": {},
   "outputs": [],
   "source": [
    "twilio_secret = \"\"\n",
    "twilio_sid = \"\"\n",
    "with open('creds.json', 'r') as f:\n",
    "    raw_data = f.read()\n",
    "    cred_data = json.loads(raw_data)\n",
    "    twilio_sid = cred_data.get(\"twilio_sid\")\n",
    "    twilio_secret = cred_data.get('twilio_secret')"
   ]
  },
  {
   "cell_type": "code",
   "execution_count": 17,
   "metadata": {},
   "outputs": [],
   "source": [
    "my_twilio_number = \"\"\n",
    "other_number = \"\""
   ]
  },
  {
   "cell_type": "code",
   "execution_count": 13,
   "metadata": {},
   "outputs": [],
   "source": [
    "from twilio.rest import Client\n",
    "\n",
    "client = Client(twilio_sid, twilio_secret)"
   ]
  },
  {
   "cell_type": "code",
   "execution_count": 18,
   "metadata": {},
   "outputs": [],
   "source": [
    "body = \"Your order will be delivered tomorrow between 8am and 2pm.\"\n",
    "message_twilio = client.messages.create(\n",
    "    body=body,\n",
    "    from_=my_twilio_number,\n",
    "    to=other_number\n",
    ")"
   ]
  },
  {
   "cell_type": "code",
   "execution_count": null,
   "metadata": {},
   "outputs": [],
   "source": [
    "msg_sid = message_twilio.sid\n",
    "msg_sid\n",
    "\n",
    "msg_ctx = client.messages.get(msg_sid)\n",
    "msg_instance = msg_ctx.fetch()\n",
    "\n",
    "msg_instance.from_"
   ]
  }
 ],
 "metadata": {
  "interpreter": {
   "hash": "03ab58b55a7bb2c87c04f0a4dde97844963836c926702846a614b1deab5f700f"
  },
  "kernelspec": {
   "display_name": "Python 3.9.7 64-bit ('venv': venv)",
   "language": "python",
   "name": "python3"
  },
  "language_info": {
   "codemirror_mode": {
    "name": "ipython",
    "version": 3
   },
   "file_extension": ".py",
   "mimetype": "text/x-python",
   "name": "python",
   "nbconvert_exporter": "python",
   "pygments_lexer": "ipython3",
   "version": "3.9.7"
  },
  "orig_nbformat": 4
 },
 "nbformat": 4,
 "nbformat_minor": 2
}
